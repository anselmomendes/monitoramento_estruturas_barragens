{
 "cells": [
  {
   "cell_type": "code",
   "execution_count": 197,
   "metadata": {},
   "outputs": [],
   "source": [
    "%matplotlib inline\n",
    "import os\n",
    "import pandas as pd\n",
    "import geopandas as gpd\n",
    "import matplotlib.pyplot as plt\n",
    "from sqlalchemy import create_engine\n",
    "import psycopg2\n",
    "from dotenv import load_dotenv"
   ]
  },
  {
   "cell_type": "code",
   "execution_count": 198,
   "metadata": {},
   "outputs": [
    {
     "name": "stdout",
     "output_type": "stream",
     "text": [
      "Importando do arquivo .env: True\n"
     ]
    }
   ],
   "source": [
    "print(f\"Importando do arquivo .env: {load_dotenv(dotenv_path=r'../.env')}\")"
   ]
  },
  {
   "cell_type": "code",
   "execution_count": 199,
   "metadata": {},
   "outputs": [],
   "source": [
    "#https://www.youtube.com/watch?v=MEEVcpnfElY\n",
    "leituras_dique6c = pd.read_csv('../arquivos/leituras_dique6c.csv')\n",
    "leituras_bvsa = pd.read_csv('../arquivos/leituras_bvsa.csv')"
   ]
  },
  {
   "cell_type": "code",
   "execution_count": 200,
   "metadata": {},
   "outputs": [],
   "source": [
    "loc_bvsa = pd.read_csv('../arquivos/loc_bvsa.csv', sep=';', decimal=',')\n",
    "loc_dique6c = pd.read_csv('../arquivos/loc_dique6c.csv', sep=';', decimal=',')"
   ]
  },
  {
   "cell_type": "code",
   "execution_count": 201,
   "metadata": {},
   "outputs": [],
   "source": [
    "loc_sensores = pd.read_excel('../arquivos/LOCALIZAÇÃO_SENSORES.xlsx', engine='openpyxl', header=2)"
   ]
  },
  {
   "cell_type": "code",
   "execution_count": 202,
   "metadata": {},
   "outputs": [],
   "source": [
    "leituras_dique6c['area'] = 'BVSA'\n",
    "leituras_bvsa['area'] = 'Dique 6C'"
   ]
  },
  {
   "cell_type": "code",
   "execution_count": 203,
   "metadata": {},
   "outputs": [],
   "source": [
    "leituras = pd.concat([leituras_bvsa, leituras_dique6c])\n",
    "leituras = leituras.rename(columns={\"Sensor\":\"sensor\", \"Data\":\"data\", \"Valor\":\"valor\", \"Unidade\":\"unidade\", \"Direcao_Saida\":\"direcao_saida\", \"Estado\":\"estado\"})\n",
    "leituras['direcao_saida'] = leituras['direcao_saida'].replace('Cota NA', 'Cota do NA')"
   ]
  },
  {
   "cell_type": "code",
   "execution_count": 204,
   "metadata": {},
   "outputs": [],
   "source": [
    "leituras_bvsa['Sensor'] = leituras_bvsa['Sensor'].apply(lambda x: x.replace(\"(I)\", '').replace(\"(S)\", '').strip())\n",
    "leituras_dique6c['Sensor'] = leituras_dique6c['Sensor'].apply(lambda x: x.replace(\"(I)\", '').replace(\"(S)\", '').strip())\n",
    "loc_bvsa['Sensor'] = loc_bvsa['Sensor'].apply(lambda x: x.replace(\"(I)\", '').replace(\"(S)\", '').strip())\n",
    "loc_dique6c['Sensor'] = loc_dique6c['Sensor'].apply(lambda x: x.replace(\"(I)\", '').replace(\"(S)\", '').strip())"
   ]
  },
  {
   "cell_type": "code",
   "execution_count": 205,
   "metadata": {},
   "outputs": [
    {
     "data": {
      "text/plain": [
       "88.14659755901718"
      ]
     },
     "execution_count": 205,
     "metadata": {},
     "output_type": "execute_result"
    }
   ],
   "source": [
    "leituras[leituras['direcao_saida'] == 'Cota do NA']['valor'].mean()"
   ]
  },
  {
   "cell_type": "code",
   "execution_count": 206,
   "metadata": {},
   "outputs": [
    {
     "data": {
      "text/plain": [
       "Cota Piezométrica                             19204\n",
       "Carga Piezométrica                            19204\n",
       "Vazão                                         10554\n",
       "Cota do NA                                     6227\n",
       "Recalque (Z)                                   1007\n",
       "Deslocamento Longitudinal (X)                  1007\n",
       "Deslocamento Transversal (Y)                   1007\n",
       "Recalque                                        819\n",
       "Deslocamento da Estaca Dir(-)/Esq(+)            819\n",
       "Deslocamento do Afastamento Mont(-)/Jus(+)      819\n",
       "Leitura                                          32\n",
       "Name: direcao_saida, dtype: int64"
      ]
     },
     "execution_count": 206,
     "metadata": {},
     "output_type": "execute_result"
    }
   ],
   "source": [
    "leituras['direcao_saida'].value_counts()"
   ]
  },
  {
   "cell_type": "code",
   "execution_count": 207,
   "metadata": {},
   "outputs": [],
   "source": [
    "from sklearn.preprocessing import LabelEncoder\n",
    "le = LabelEncoder()\n",
    "\n",
    "leituras['id_unidade'] = le.fit_transform(leituras['unidade']) +1\n",
    "leituras['id_direcao_saida'] = le.fit_transform(leituras['direcao_saida']) +1\n",
    "leituras['id_estado'] = le.fit_transform(leituras['estado']) +1\n",
    "leituras['id_area'] = le.fit_transform(leituras['area']) + 1\n",
    "\n",
    "leituras = leituras.reset_index(drop=True)"
   ]
  },
  {
   "cell_type": "code",
   "execution_count": 208,
   "metadata": {},
   "outputs": [
    {
     "data": {
      "text/html": [
       "<div>\n",
       "<style scoped>\n",
       "    .dataframe tbody tr th:only-of-type {\n",
       "        vertical-align: middle;\n",
       "    }\n",
       "\n",
       "    .dataframe tbody tr th {\n",
       "        vertical-align: top;\n",
       "    }\n",
       "\n",
       "    .dataframe thead th {\n",
       "        text-align: right;\n",
       "    }\n",
       "</style>\n",
       "<table border=\"1\" class=\"dataframe\">\n",
       "  <thead>\n",
       "    <tr style=\"text-align: right;\">\n",
       "      <th></th>\n",
       "      <th>sensor</th>\n",
       "      <th>data</th>\n",
       "      <th>valor</th>\n",
       "      <th>unidade</th>\n",
       "      <th>direcao_saida</th>\n",
       "      <th>estado</th>\n",
       "      <th>area</th>\n",
       "      <th>id_unidade</th>\n",
       "      <th>id_direcao_saida</th>\n",
       "      <th>id_estado</th>\n",
       "      <th>id_area</th>\n",
       "    </tr>\n",
       "  </thead>\n",
       "  <tbody>\n",
       "    <tr>\n",
       "      <th>0</th>\n",
       "      <td>PZ-BM-BV-54</td>\n",
       "      <td>2013-09-28 11:30:00</td>\n",
       "      <td>24.570</td>\n",
       "      <td>m</td>\n",
       "      <td>Cota Piezométrica</td>\n",
       "      <td>normal</td>\n",
       "      <td>Dique 6C</td>\n",
       "      <td>3</td>\n",
       "      <td>2</td>\n",
       "      <td>3</td>\n",
       "      <td>2</td>\n",
       "    </tr>\n",
       "    <tr>\n",
       "      <th>1</th>\n",
       "      <td>PZ-BM-BV-54</td>\n",
       "      <td>2013-09-28 11:30:00</td>\n",
       "      <td>0.000</td>\n",
       "      <td>m.c.a</td>\n",
       "      <td>Carga Piezométrica</td>\n",
       "      <td>normal</td>\n",
       "      <td>Dique 6C</td>\n",
       "      <td>4</td>\n",
       "      <td>1</td>\n",
       "      <td>3</td>\n",
       "      <td>2</td>\n",
       "    </tr>\n",
       "    <tr>\n",
       "      <th>2</th>\n",
       "      <td>PZ-BM-BV-53</td>\n",
       "      <td>2013-10-07 10:40:00</td>\n",
       "      <td>0.000</td>\n",
       "      <td>m.c.a</td>\n",
       "      <td>Carga Piezométrica</td>\n",
       "      <td>normal</td>\n",
       "      <td>Dique 6C</td>\n",
       "      <td>4</td>\n",
       "      <td>1</td>\n",
       "      <td>3</td>\n",
       "      <td>2</td>\n",
       "    </tr>\n",
       "    <tr>\n",
       "      <th>3</th>\n",
       "      <td>PZ-BM-BV-53</td>\n",
       "      <td>2013-10-07 10:40:00</td>\n",
       "      <td>27.740</td>\n",
       "      <td>m</td>\n",
       "      <td>Cota Piezométrica</td>\n",
       "      <td>normal</td>\n",
       "      <td>Dique 6C</td>\n",
       "      <td>3</td>\n",
       "      <td>2</td>\n",
       "      <td>3</td>\n",
       "      <td>2</td>\n",
       "    </tr>\n",
       "    <tr>\n",
       "      <th>4</th>\n",
       "      <td>PZ-BM-BV-53</td>\n",
       "      <td>2013-10-09 14:49:00</td>\n",
       "      <td>27.740</td>\n",
       "      <td>m</td>\n",
       "      <td>Cota Piezométrica</td>\n",
       "      <td>normal</td>\n",
       "      <td>Dique 6C</td>\n",
       "      <td>3</td>\n",
       "      <td>2</td>\n",
       "      <td>3</td>\n",
       "      <td>2</td>\n",
       "    </tr>\n",
       "    <tr>\n",
       "      <th>...</th>\n",
       "      <td>...</td>\n",
       "      <td>...</td>\n",
       "      <td>...</td>\n",
       "      <td>...</td>\n",
       "      <td>...</td>\n",
       "      <td>...</td>\n",
       "      <td>...</td>\n",
       "      <td>...</td>\n",
       "      <td>...</td>\n",
       "      <td>...</td>\n",
       "      <td>...</td>\n",
       "    </tr>\n",
       "    <tr>\n",
       "      <th>60694</th>\n",
       "      <td>MNA-SM-7541 (I)</td>\n",
       "      <td>2022-04-13 14:04:00</td>\n",
       "      <td>87.950</td>\n",
       "      <td>m</td>\n",
       "      <td>Cota do NA</td>\n",
       "      <td>normal</td>\n",
       "      <td>BVSA</td>\n",
       "      <td>3</td>\n",
       "      <td>3</td>\n",
       "      <td>3</td>\n",
       "      <td>1</td>\n",
       "    </tr>\n",
       "    <tr>\n",
       "      <th>60695</th>\n",
       "      <td>MNA-SM-7542 (S)</td>\n",
       "      <td>2022-04-13 14:09:00</td>\n",
       "      <td>74.720</td>\n",
       "      <td>m</td>\n",
       "      <td>Cota do NA</td>\n",
       "      <td>normal</td>\n",
       "      <td>BVSA</td>\n",
       "      <td>3</td>\n",
       "      <td>3</td>\n",
       "      <td>3</td>\n",
       "      <td>1</td>\n",
       "    </tr>\n",
       "    <tr>\n",
       "      <th>60696</th>\n",
       "      <td>MNA-SM-7542 (I)</td>\n",
       "      <td>2022-04-13 14:09:00</td>\n",
       "      <td>71.000</td>\n",
       "      <td>m</td>\n",
       "      <td>Cota do NA</td>\n",
       "      <td>normal</td>\n",
       "      <td>BVSA</td>\n",
       "      <td>3</td>\n",
       "      <td>3</td>\n",
       "      <td>3</td>\n",
       "      <td>1</td>\n",
       "    </tr>\n",
       "    <tr>\n",
       "      <th>60697</th>\n",
       "      <td>MNA-SM-7539 (S)</td>\n",
       "      <td>2022-04-13 14:46:00</td>\n",
       "      <td>100.400</td>\n",
       "      <td>m</td>\n",
       "      <td>Cota do NA</td>\n",
       "      <td>normal</td>\n",
       "      <td>BVSA</td>\n",
       "      <td>3</td>\n",
       "      <td>3</td>\n",
       "      <td>3</td>\n",
       "      <td>1</td>\n",
       "    </tr>\n",
       "    <tr>\n",
       "      <th>60698</th>\n",
       "      <td>MNA-SM-7500A (S)</td>\n",
       "      <td>2022-04-13 14:46:00</td>\n",
       "      <td>91.265</td>\n",
       "      <td>m</td>\n",
       "      <td>Cota do NA</td>\n",
       "      <td>normal</td>\n",
       "      <td>BVSA</td>\n",
       "      <td>3</td>\n",
       "      <td>3</td>\n",
       "      <td>3</td>\n",
       "      <td>1</td>\n",
       "    </tr>\n",
       "  </tbody>\n",
       "</table>\n",
       "<p>60699 rows × 11 columns</p>\n",
       "</div>"
      ],
      "text/plain": [
       "                 sensor                 data    valor unidade  \\\n",
       "0           PZ-BM-BV-54  2013-09-28 11:30:00   24.570       m   \n",
       "1           PZ-BM-BV-54  2013-09-28 11:30:00    0.000   m.c.a   \n",
       "2           PZ-BM-BV-53  2013-10-07 10:40:00    0.000   m.c.a   \n",
       "3           PZ-BM-BV-53  2013-10-07 10:40:00   27.740       m   \n",
       "4           PZ-BM-BV-53  2013-10-09 14:49:00   27.740       m   \n",
       "...                 ...                  ...      ...     ...   \n",
       "60694   MNA-SM-7541 (I)  2022-04-13 14:04:00   87.950       m   \n",
       "60695   MNA-SM-7542 (S)  2022-04-13 14:09:00   74.720       m   \n",
       "60696   MNA-SM-7542 (I)  2022-04-13 14:09:00   71.000       m   \n",
       "60697   MNA-SM-7539 (S)  2022-04-13 14:46:00  100.400       m   \n",
       "60698  MNA-SM-7500A (S)  2022-04-13 14:46:00   91.265       m   \n",
       "\n",
       "            direcao_saida  estado      area  id_unidade  id_direcao_saida  \\\n",
       "0       Cota Piezométrica  normal  Dique 6C           3                 2   \n",
       "1      Carga Piezométrica  normal  Dique 6C           4                 1   \n",
       "2      Carga Piezométrica  normal  Dique 6C           4                 1   \n",
       "3       Cota Piezométrica  normal  Dique 6C           3                 2   \n",
       "4       Cota Piezométrica  normal  Dique 6C           3                 2   \n",
       "...                   ...     ...       ...         ...               ...   \n",
       "60694          Cota do NA  normal      BVSA           3                 3   \n",
       "60695          Cota do NA  normal      BVSA           3                 3   \n",
       "60696          Cota do NA  normal      BVSA           3                 3   \n",
       "60697          Cota do NA  normal      BVSA           3                 3   \n",
       "60698          Cota do NA  normal      BVSA           3                 3   \n",
       "\n",
       "       id_estado  id_area  \n",
       "0              3        2  \n",
       "1              3        2  \n",
       "2              3        2  \n",
       "3              3        2  \n",
       "4              3        2  \n",
       "...          ...      ...  \n",
       "60694          3        1  \n",
       "60695          3        1  \n",
       "60696          3        1  \n",
       "60697          3        1  \n",
       "60698          3        1  \n",
       "\n",
       "[60699 rows x 11 columns]"
      ]
     },
     "execution_count": 208,
     "metadata": {},
     "output_type": "execute_result"
    }
   ],
   "source": [
    "leituras"
   ]
  },
  {
   "cell_type": "code",
   "execution_count": 209,
   "metadata": {},
   "outputs": [],
   "source": [
    "unidade = leituras[['id_unidade', 'unidade']].sort_values(by=['id_unidade']).drop_duplicates()\n",
    "direcao_saida = leituras[['id_direcao_saida', 'direcao_saida']].sort_values(by=['id_direcao_saida']).drop_duplicates()\n",
    "estado = leituras[['id_estado', 'estado']].sort_values(by=['id_estado']).drop_duplicates()\n",
    "area = leituras[['id_area', 'area']].sort_values(by=['id_area']).drop_duplicates()"
   ]
  },
  {
   "cell_type": "code",
   "execution_count": 210,
   "metadata": {},
   "outputs": [],
   "source": [
    "#Criação da tabela de sensores"
   ]
  },
  {
   "cell_type": "code",
   "execution_count": 211,
   "metadata": {},
   "outputs": [],
   "source": [
    "aux = pd.concat([leituras_bvsa[['Sensor']], leituras_dique6c[['Sensor']], loc_bvsa[['Sensor']], loc_dique6c[['Sensor']]])\n",
    "tabela_sensores = aux.drop_duplicates().sort_values(by=['Sensor']).reset_index(drop=True)\n",
    "tabela_sensores['Sensor'] = tabela_sensores['Sensor'].apply(lambda x: x.replace(\"‐\", '-').strip())\n",
    "tabela_sensores.index = tabela_sensores.index+1"
   ]
  },
  {
   "cell_type": "code",
   "execution_count": 212,
   "metadata": {},
   "outputs": [],
   "source": [
    "tabela_sensores.to_excel('../tabelas/sensores.xlsx')"
   ]
  },
  {
   "cell_type": "code",
   "execution_count": 213,
   "metadata": {},
   "outputs": [],
   "source": [
    "dict_sensores = tabela_sensores.reset_index()[['Sensor','index']].to_dict(orient = 'tight')\n",
    "dict_sensores = dict(dict_sensores['data']);"
   ]
  },
  {
   "cell_type": "code",
   "execution_count": 214,
   "metadata": {},
   "outputs": [],
   "source": [
    "leituras['id_sensor'] = leituras['sensor'].map(dict_sensores) +1"
   ]
  },
  {
   "cell_type": "code",
   "execution_count": 215,
   "metadata": {},
   "outputs": [],
   "source": [
    "leituras = leituras[['id_sensor','id_unidade', 'id_direcao_saida', 'id_estado', 'id_area', 'sensor', 'data', 'valor', 'unidade', 'direcao_saida', 'estado', 'area']]"
   ]
  },
  {
   "cell_type": "code",
   "execution_count": 216,
   "metadata": {},
   "outputs": [],
   "source": [
    "leituras = leituras.drop_duplicates()"
   ]
  },
  {
   "cell_type": "code",
   "execution_count": 217,
   "metadata": {},
   "outputs": [],
   "source": [
    "#Tratamento dos dados de localização\n",
    "import geopandas as gpd"
   ]
  },
  {
   "cell_type": "code",
   "execution_count": 218,
   "metadata": {},
   "outputs": [],
   "source": [
    "localizacao = gpd.GeoDataFrame(pd.concat([loc_bvsa, loc_dique6c]))\n",
    "localizacao = localizacao.rename(columns={\"Sensor\":\"sensor\", \"Latitude\":\"latitude\", \"Longitude\":\"longitude\", \"Altura\":\"altura\"})"
   ]
  },
  {
   "cell_type": "code",
   "execution_count": 219,
   "metadata": {},
   "outputs": [],
   "source": [
    "localizacao['sensor'] = localizacao['sensor'].apply(lambda x: x.replace(\"‐\", '-').strip())"
   ]
  },
  {
   "cell_type": "code",
   "execution_count": 220,
   "metadata": {},
   "outputs": [],
   "source": [
    "localizacao['id_sensor'] = localizacao['sensor'].map(dict_sensores)"
   ]
  },
  {
   "cell_type": "code",
   "execution_count": 221,
   "metadata": {},
   "outputs": [
    {
     "data": {
      "text/html": [
       "<div>\n",
       "<style scoped>\n",
       "    .dataframe tbody tr th:only-of-type {\n",
       "        vertical-align: middle;\n",
       "    }\n",
       "\n",
       "    .dataframe tbody tr th {\n",
       "        vertical-align: top;\n",
       "    }\n",
       "\n",
       "    .dataframe thead th {\n",
       "        text-align: right;\n",
       "    }\n",
       "</style>\n",
       "<table border=\"1\" class=\"dataframe\">\n",
       "  <thead>\n",
       "    <tr style=\"text-align: right;\">\n",
       "      <th></th>\n",
       "      <th>sensor</th>\n",
       "      <th>N</th>\n",
       "      <th>E</th>\n",
       "      <th>latitude</th>\n",
       "      <th>longitude</th>\n",
       "      <th>altura</th>\n",
       "      <th>id_sensor</th>\n",
       "    </tr>\n",
       "  </thead>\n",
       "  <tbody>\n",
       "    <tr>\n",
       "      <th>1</th>\n",
       "      <td>PZ-BM-BV-11</td>\n",
       "      <td>9.652626e+09</td>\n",
       "      <td>412507056.0</td>\n",
       "      <td>-3.142831</td>\n",
       "      <td>-51.787880</td>\n",
       "      <td>74.48</td>\n",
       "      <td>231</td>\n",
       "    </tr>\n",
       "    <tr>\n",
       "      <th>2</th>\n",
       "      <td>PZ-BM-BV-12</td>\n",
       "      <td>9.652626e+09</td>\n",
       "      <td>412507056.0</td>\n",
       "      <td>-3.142831</td>\n",
       "      <td>-51.787880</td>\n",
       "      <td>59.15</td>\n",
       "      <td>232</td>\n",
       "    </tr>\n",
       "    <tr>\n",
       "      <th>3</th>\n",
       "      <td>PZ-BM-BV-13</td>\n",
       "      <td>9.652636e+09</td>\n",
       "      <td>412475409.0</td>\n",
       "      <td>-3.142733</td>\n",
       "      <td>-51.788165</td>\n",
       "      <td>69.96</td>\n",
       "      <td>233</td>\n",
       "    </tr>\n",
       "    <tr>\n",
       "      <th>4</th>\n",
       "      <td>PZ-BM-BV-14</td>\n",
       "      <td>9.652636e+09</td>\n",
       "      <td>412475409.0</td>\n",
       "      <td>-3.142733</td>\n",
       "      <td>-51.788165</td>\n",
       "      <td>54.44</td>\n",
       "      <td>234</td>\n",
       "    </tr>\n",
       "    <tr>\n",
       "      <th>5</th>\n",
       "      <td>PZ-BM-BV-15</td>\n",
       "      <td>9.652622e+09</td>\n",
       "      <td>412336622.0</td>\n",
       "      <td>-3.142866</td>\n",
       "      <td>-51.789414</td>\n",
       "      <td>65.00</td>\n",
       "      <td>235</td>\n",
       "    </tr>\n",
       "    <tr>\n",
       "      <th>...</th>\n",
       "      <td>...</td>\n",
       "      <td>...</td>\n",
       "      <td>...</td>\n",
       "      <td>...</td>\n",
       "      <td>...</td>\n",
       "      <td>...</td>\n",
       "      <td>...</td>\n",
       "    </tr>\n",
       "    <tr>\n",
       "      <th>117</th>\n",
       "      <td>MV-D06C-04</td>\n",
       "      <td>9.652152e+09</td>\n",
       "      <td>413817837.0</td>\n",
       "      <td>-3.147122</td>\n",
       "      <td>-51.776087</td>\n",
       "      <td>65.00</td>\n",
       "      <td>138</td>\n",
       "    </tr>\n",
       "    <tr>\n",
       "      <th>118</th>\n",
       "      <td>RM-D06C-01</td>\n",
       "      <td>9.651928e+09</td>\n",
       "      <td>413655231.0</td>\n",
       "      <td>-3.149147</td>\n",
       "      <td>-51.777552</td>\n",
       "      <td>100.00</td>\n",
       "      <td>285</td>\n",
       "    </tr>\n",
       "    <tr>\n",
       "      <th>119</th>\n",
       "      <td>RM-D06C-02</td>\n",
       "      <td>9.651928e+09</td>\n",
       "      <td>413655231.0</td>\n",
       "      <td>-3.149147</td>\n",
       "      <td>-51.777552</td>\n",
       "      <td>100.00</td>\n",
       "      <td>286</td>\n",
       "    </tr>\n",
       "    <tr>\n",
       "      <th>120</th>\n",
       "      <td>RM-D06C-03</td>\n",
       "      <td>9.651928e+09</td>\n",
       "      <td>413655231.0</td>\n",
       "      <td>-3.149147</td>\n",
       "      <td>-51.777552</td>\n",
       "      <td>100.00</td>\n",
       "      <td>287</td>\n",
       "    </tr>\n",
       "    <tr>\n",
       "      <th>121</th>\n",
       "      <td>RM-D06C-04</td>\n",
       "      <td>9.651928e+09</td>\n",
       "      <td>413655231.0</td>\n",
       "      <td>-3.149147</td>\n",
       "      <td>-51.777552</td>\n",
       "      <td>100.00</td>\n",
       "      <td>288</td>\n",
       "    </tr>\n",
       "  </tbody>\n",
       "</table>\n",
       "<p>121 rows × 7 columns</p>\n",
       "</div>"
      ],
      "text/plain": [
       "          sensor             N            E  latitude  longitude  altura  \\\n",
       "1    PZ-BM-BV-11  9.652626e+09  412507056.0 -3.142831 -51.787880   74.48   \n",
       "2    PZ-BM-BV-12  9.652626e+09  412507056.0 -3.142831 -51.787880   59.15   \n",
       "3    PZ-BM-BV-13  9.652636e+09  412475409.0 -3.142733 -51.788165   69.96   \n",
       "4    PZ-BM-BV-14  9.652636e+09  412475409.0 -3.142733 -51.788165   54.44   \n",
       "5    PZ-BM-BV-15  9.652622e+09  412336622.0 -3.142866 -51.789414   65.00   \n",
       "..           ...           ...          ...       ...        ...     ...   \n",
       "117   MV-D06C-04  9.652152e+09  413817837.0 -3.147122 -51.776087   65.00   \n",
       "118   RM-D06C-01  9.651928e+09  413655231.0 -3.149147 -51.777552  100.00   \n",
       "119   RM-D06C-02  9.651928e+09  413655231.0 -3.149147 -51.777552  100.00   \n",
       "120   RM-D06C-03  9.651928e+09  413655231.0 -3.149147 -51.777552  100.00   \n",
       "121   RM-D06C-04  9.651928e+09  413655231.0 -3.149147 -51.777552  100.00   \n",
       "\n",
       "     id_sensor  \n",
       "1          231  \n",
       "2          232  \n",
       "3          233  \n",
       "4          234  \n",
       "5          235  \n",
       "..         ...  \n",
       "117        138  \n",
       "118        285  \n",
       "119        286  \n",
       "120        287  \n",
       "121        288  \n",
       "\n",
       "[121 rows x 7 columns]"
      ]
     },
     "execution_count": 221,
     "metadata": {},
     "output_type": "execute_result"
    }
   ],
   "source": [
    "localizacao = localizacao.reset_index(drop=True)\n",
    "localizacao.index = localizacao.index + 1\n",
    "localizacao"
   ]
  },
  {
   "cell_type": "code",
   "execution_count": 222,
   "metadata": {},
   "outputs": [],
   "source": [
    "x_latitude = localizacao['latitude']\n",
    "y_longitude = localizacao['longitude']\n",
    "z_altura = localizacao['altura']"
   ]
  },
  {
   "cell_type": "code",
   "execution_count": 223,
   "metadata": {},
   "outputs": [],
   "source": [
    "localizacao['geom'] = gpd.GeoSeries.from_xy(x =y_longitude, y=x_latitude, z=z_altura, crs='EPSG:4326')"
   ]
  },
  {
   "cell_type": "code",
   "execution_count": 224,
   "metadata": {},
   "outputs": [],
   "source": [
    "localizacao = localizacao[['id_sensor', 'sensor', 'latitude', 'longitude', 'altura', 'geom']]"
   ]
  },
  {
   "cell_type": "code",
   "execution_count": 225,
   "metadata": {},
   "outputs": [
    {
     "data": {
      "text/html": [
       "<div>\n",
       "<style scoped>\n",
       "    .dataframe tbody tr th:only-of-type {\n",
       "        vertical-align: middle;\n",
       "    }\n",
       "\n",
       "    .dataframe tbody tr th {\n",
       "        vertical-align: top;\n",
       "    }\n",
       "\n",
       "    .dataframe thead th {\n",
       "        text-align: right;\n",
       "    }\n",
       "</style>\n",
       "<table border=\"1\" class=\"dataframe\">\n",
       "  <thead>\n",
       "    <tr style=\"text-align: right;\">\n",
       "      <th></th>\n",
       "      <th>id_sensor</th>\n",
       "      <th>sensor</th>\n",
       "      <th>latitude</th>\n",
       "      <th>longitude</th>\n",
       "      <th>altura</th>\n",
       "      <th>geom</th>\n",
       "    </tr>\n",
       "  </thead>\n",
       "  <tbody>\n",
       "    <tr>\n",
       "      <th>1</th>\n",
       "      <td>231</td>\n",
       "      <td>PZ-BM-BV-11</td>\n",
       "      <td>-3.142831</td>\n",
       "      <td>-51.787880</td>\n",
       "      <td>74.48</td>\n",
       "      <td>POINT Z (-51.78788 -3.14283 74.48000)</td>\n",
       "    </tr>\n",
       "    <tr>\n",
       "      <th>2</th>\n",
       "      <td>232</td>\n",
       "      <td>PZ-BM-BV-12</td>\n",
       "      <td>-3.142831</td>\n",
       "      <td>-51.787880</td>\n",
       "      <td>59.15</td>\n",
       "      <td>POINT Z (-51.78788 -3.14283 59.15000)</td>\n",
       "    </tr>\n",
       "    <tr>\n",
       "      <th>3</th>\n",
       "      <td>233</td>\n",
       "      <td>PZ-BM-BV-13</td>\n",
       "      <td>-3.142733</td>\n",
       "      <td>-51.788165</td>\n",
       "      <td>69.96</td>\n",
       "      <td>POINT Z (-51.78816 -3.14273 69.96000)</td>\n",
       "    </tr>\n",
       "    <tr>\n",
       "      <th>4</th>\n",
       "      <td>234</td>\n",
       "      <td>PZ-BM-BV-14</td>\n",
       "      <td>-3.142733</td>\n",
       "      <td>-51.788165</td>\n",
       "      <td>54.44</td>\n",
       "      <td>POINT Z (-51.78816 -3.14273 54.44000)</td>\n",
       "    </tr>\n",
       "    <tr>\n",
       "      <th>5</th>\n",
       "      <td>235</td>\n",
       "      <td>PZ-BM-BV-15</td>\n",
       "      <td>-3.142866</td>\n",
       "      <td>-51.789414</td>\n",
       "      <td>65.00</td>\n",
       "      <td>POINT Z (-51.78941 -3.14287 65.00000)</td>\n",
       "    </tr>\n",
       "  </tbody>\n",
       "</table>\n",
       "</div>"
      ],
      "text/plain": [
       "   id_sensor       sensor  latitude  longitude  altura  \\\n",
       "1        231  PZ-BM-BV-11 -3.142831 -51.787880   74.48   \n",
       "2        232  PZ-BM-BV-12 -3.142831 -51.787880   59.15   \n",
       "3        233  PZ-BM-BV-13 -3.142733 -51.788165   69.96   \n",
       "4        234  PZ-BM-BV-14 -3.142733 -51.788165   54.44   \n",
       "5        235  PZ-BM-BV-15 -3.142866 -51.789414   65.00   \n",
       "\n",
       "                                    geom  \n",
       "1  POINT Z (-51.78788 -3.14283 74.48000)  \n",
       "2  POINT Z (-51.78788 -3.14283 59.15000)  \n",
       "3  POINT Z (-51.78816 -3.14273 69.96000)  \n",
       "4  POINT Z (-51.78816 -3.14273 54.44000)  \n",
       "5  POINT Z (-51.78941 -3.14287 65.00000)  "
      ]
     },
     "execution_count": 225,
     "metadata": {},
     "output_type": "execute_result"
    }
   ],
   "source": [
    "localizacao.head()"
   ]
  },
  {
   "cell_type": "code",
   "execution_count": 226,
   "metadata": {},
   "outputs": [],
   "source": [
    "SGBD_HOMOLOGACAO =  os.environ.get(\"DATABASE_URL\")\n",
    "HOST_HOMOLOGACAO =  os.environ.get(\"PGHOST\")\n",
    "USER_HOMOLOGACAO = os.environ.get(\"PGUSER\")\n",
    "DATABASE_HOMOLOGACAO =  os.environ.get(\"PGDATABASE\")\n",
    "PORT_HOMOLOGACAO =  os.environ.get(\"PGPORT\")\n",
    "PASSWORD_HOMOLOGACAO = os.environ.get(\"PGPASSWORD\")\n",
    "SQLALCHEMY_HOMOLOGACAO = os.environ.get(\"DATABASE_URL\")"
   ]
  },
  {
   "cell_type": "code",
   "execution_count": 227,
   "metadata": {},
   "outputs": [
    {
     "name": "stdout",
     "output_type": "stream",
     "text": [
      "Criando conexão com o banco.\n"
     ]
    },
    {
     "name": "stdout",
     "output_type": "stream",
     "text": [
      "Conexão com banco de dados criada...\n"
     ]
    }
   ],
   "source": [
    "print(\"Criando conexão com o banco.\")\n",
    "try: \n",
    "    engine = create_engine(SQLALCHEMY_HOMOLOGACAO)\n",
    "    conn = engine.connect()\n",
    "    print('Conexão com banco de dados criada...')\n",
    "except:\n",
    "    print('Falha ao criar conexão com banco de dados.')"
   ]
  },
  {
   "cell_type": "code",
   "execution_count": 228,
   "metadata": {},
   "outputs": [],
   "source": [
    "localizacao = localizacao.set_geometry('geom')"
   ]
  },
  {
   "cell_type": "code",
   "execution_count": 229,
   "metadata": {},
   "outputs": [],
   "source": [
    "localizacao_ = localizacao[['id_sensor', 'sensor', 'latitude', 'longitude', 'altura']]"
   ]
  },
  {
   "cell_type": "code",
   "execution_count": 234,
   "metadata": {},
   "outputs": [],
   "source": [
    "leituras = leituras.rename(columns={'index': 'id'})\n",
    "localizacao = localizacao.rename(columns={'index': 'id'})"
   ]
  },
  {
   "cell_type": "code",
   "execution_count": null,
   "metadata": {},
   "outputs": [],
   "source": [
    "#sensores.to_sql('sensores', schema='pesquisa', con=conn, if_exists='replace', index=True)\n",
    "#unidade.to_sql('unidade', schema='pesquisa', con=conn, if_exists='replace', index=False)\n",
    "#direcao_saida.to_sql('direcao_saida', schema='pesquisa', con=conn, if_exists='replace', index=False)\n",
    "#area.to_sql('area', schema='pesquisa', con=conn, if_exists='replace', index=False)\n",
    "#estado.to_sql('estado', schema='pesquisa', con=conn, if_exists='replace', index=False)\n",
    "#leituras.to_sql('leituras', schema='pesquisa', con=conn, if_exists='replace', index=True)\n",
    "#localizacao.to_postgis('localizacao', schema='pesquisa', con=conn, if_exists='replace', index=True)"
   ]
  },
  {
   "cell_type": "code",
   "execution_count": null,
   "metadata": {},
   "outputs": [],
   "source": [
    "sensores.to_excel('../tabelas/sensores.xlsx')\n",
    "unidades.to_excel('../tabelas/unidades.xlsx')\n",
    "direcao_saida.to_excel('../tabelas/direcao_saida.xlsx')\n",
    "leituras.to_excel('../tabelas/leituras.xlsx')\n",
    "localizacao.to_excel('../tabelas/localizacao.xlsx')"
   ]
  }
 ],
 "metadata": {
  "kernelspec": {
   "display_name": "venv",
   "language": "python",
   "name": "python3"
  },
  "language_info": {
   "codemirror_mode": {
    "name": "ipython",
    "version": 3
   },
   "file_extension": ".py",
   "mimetype": "text/x-python",
   "name": "python",
   "nbconvert_exporter": "python",
   "pygments_lexer": "ipython3",
   "version": "3.9.0"
  },
  "orig_nbformat": 4
 },
 "nbformat": 4,
 "nbformat_minor": 2
}
