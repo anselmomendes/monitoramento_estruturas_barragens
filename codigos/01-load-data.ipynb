{
 "cells": [
  {
   "cell_type": "code",
   "execution_count": null,
   "metadata": {},
   "outputs": [],
   "source": [
    "%matplotlib inline\n",
    "import os\n",
    "import pandas as pd\n",
    "import geopandas as gpd\n",
    "import matplotlib.pyplot as plt\n",
    "from sqlalchemy import create_engine\n",
    "import psycopg2\n",
    "from dotenv import load_dotenv"
   ]
  },
  {
   "cell_type": "code",
   "execution_count": null,
   "metadata": {},
   "outputs": [],
   "source": [
    "print(f\"Importando do arquivo .env: {load_dotenv(dotenv_path=r'../.env')}\")"
   ]
  },
  {
   "cell_type": "code",
   "execution_count": null,
   "metadata": {},
   "outputs": [],
   "source": [
    "#https://www.youtube.com/watch?v=MEEVcpnfElY\n",
    "leituras_dique6c = pd.read_csv('../arquivos/leituras_dique6c.csv')\n",
    "leituras_bvsa = pd.read_csv('../arquivos/leituras_bvsa.csv')"
   ]
  },
  {
   "cell_type": "code",
   "execution_count": null,
   "metadata": {},
   "outputs": [],
   "source": [
    "loc_bvsa = pd.read_csv('../arquivos/loc_bvsa.csv', sep=';', decimal=',')\n",
    "loc_dique6c = pd.read_csv('../arquivos/loc_dique6c.csv', sep=';', decimal=',')"
   ]
  },
  {
   "cell_type": "code",
   "execution_count": null,
   "metadata": {},
   "outputs": [],
   "source": [
    "loc_sensores = pd.read_excel('../arquivos/LOCALIZAÇÃO_SENSORES.xlsx', engine='openpyxl', header=2)"
   ]
  },
  {
   "cell_type": "code",
   "execution_count": null,
   "metadata": {},
   "outputs": [],
   "source": [
    "leituras_bvsa['area'] = 'BVSA'\n",
    "leituras_bvsa['area'] = 'Dique 6C'"
   ]
  },
  {
   "cell_type": "code",
   "execution_count": null,
   "metadata": {},
   "outputs": [],
   "source": [
    "leituras = pd.concat([leituras_bvsa, leituras_dique6c])\n",
    "leituras = leituras.rename(columns={\"Sensor\":\"sensor\", \"Data\":\"data\", \"Valor\":\"valor\", \"Unidade\":\"unidade\", \"Direcao_Saida\":\"direcao_saida\", \"Estado\":\"estado\"})\n",
    "leituras['direcao_saida'] = leituras['direcao_saida'].replace('Cota NA', 'Cota do NA')"
   ]
  },
  {
   "cell_type": "code",
   "execution_count": null,
   "metadata": {},
   "outputs": [],
   "source": [
    "leituras_bvsa['Sensor'] = leituras_bvsa['Sensor'].apply(lambda x: x.replace(\"(I)\", '').replace(\"(S)\", '').strip())\n",
    "leituras_dique6c['Sensor'] = leituras_dique6c['Sensor'].apply(lambda x: x.replace(\"(I)\", '').replace(\"(S)\", '').strip())\n",
    "loc_bvsa['Sensor'] = loc_bvsa['Sensor'].apply(lambda x: x.replace(\"(I)\", '').replace(\"(S)\", '').strip())\n",
    "loc_dique6c['Sensor'] = loc_dique6c['Sensor'].apply(lambda x: x.replace(\"(I)\", '').replace(\"(S)\", '').strip())"
   ]
  },
  {
   "cell_type": "code",
   "execution_count": null,
   "metadata": {},
   "outputs": [],
   "source": [
    "leituras[leituras['direcao_saida'] == 'Cota do NA']['valor'].mean()"
   ]
  },
  {
   "cell_type": "code",
   "execution_count": null,
   "metadata": {},
   "outputs": [],
   "source": [
    "leituras['direcao_saida'].value_counts()"
   ]
  },
  {
   "cell_type": "code",
   "execution_count": null,
   "metadata": {},
   "outputs": [],
   "source": [
    "from sklearn.preprocessing import LabelEncoder\n",
    "le = LabelEncoder()\n",
    "\n",
    "#leituras['id_sensor'] = le.fit_transform(leituras['sensor'])\n",
    "leituras['id_unidade'] = le.fit_transform(leituras['unidade']) +1\n",
    "leituras['id_direcao_saida'] = le.fit_transform(leituras['direcao_saida']) +1\n",
    "leituras['id_estado'] = le.fit_transform(leituras['estado']) +1\n",
    "leituras['id_area'] = le.fit_transform(leituras['area']) + 1\n",
    "\n",
    "leituras = leituras.reset_index(drop=True)"
   ]
  },
  {
   "cell_type": "code",
   "execution_count": null,
   "metadata": {},
   "outputs": [],
   "source": [
    "#Criação da tabela de sensores"
   ]
  },
  {
   "cell_type": "code",
   "execution_count": null,
   "metadata": {},
   "outputs": [],
   "source": [
    "aux = pd.concat([leituras_bvsa[['Sensor']], leituras_dique6c[['Sensor']], loc_bvsa[['Sensor']], loc_dique6c[['Sensor']]])\n",
    "tabela_sensores = aux.drop_duplicates().sort_values(by=['Sensor']).reset_index(drop=True)\n",
    "tabela_sensores['Sensor'] = tabela_sensores['Sensor'].apply(lambda x: x.replace(\"‐\", '-').strip())\n",
    "tabela_sensores.index = tabela_sensores.index+1"
   ]
  },
  {
   "cell_type": "code",
   "execution_count": null,
   "metadata": {},
   "outputs": [],
   "source": [
    "tabela_sensores.to_excel('../tabelas/sensores.xlsx')"
   ]
  },
  {
   "cell_type": "code",
   "execution_count": null,
   "metadata": {},
   "outputs": [],
   "source": [
    "dict_sensores = tabela_sensores.reset_index()[['Sensor','index']].to_dict(orient = 'tight')\n",
    "dict_sensores = dict(dict_sensores['data']);"
   ]
  },
  {
   "cell_type": "code",
   "execution_count": null,
   "metadata": {},
   "outputs": [],
   "source": [
    "leituras['id_sensor'] = leituras['sensor'].map(dict_sensores) +1"
   ]
  },
  {
   "cell_type": "code",
   "execution_count": null,
   "metadata": {},
   "outputs": [],
   "source": [
    "leituras = leituras[['id_sensor','id_unidade', 'id_direcao_saida', 'id_estado', 'id_area', 'sensor', 'data', 'valor', 'unidade', 'direcao_saida', 'estado', 'area']]"
   ]
  },
  {
   "cell_type": "code",
   "execution_count": null,
   "metadata": {},
   "outputs": [],
   "source": [
    "sensores = pd.DataFrame(tabela_sensores)\n",
    "sensores = sensores.rename(columns={\"Sensor\":\"name\"})\n",
    "sensores"
   ]
  },
  {
   "cell_type": "code",
   "execution_count": null,
   "metadata": {},
   "outputs": [],
   "source": [
    "#Criação da Tabela de Unidade"
   ]
  },
  {
   "cell_type": "code",
   "execution_count": null,
   "metadata": {},
   "outputs": [],
   "source": [
    "tabela_unidades = pd.concat([leituras_bvsa['Unidade'], leituras_dique6c['Unidade']])\n",
    "tabela_unidades = tabela_unidades.drop_duplicates().sort_values().reset_index(drop=True)\n",
    "unidades = pd.DataFrame(tabela_unidades)\n",
    "unidades = unidades.rename(columns={\"Unidade\":\"name\"})\n",
    "unidades"
   ]
  },
  {
   "cell_type": "code",
   "execution_count": null,
   "metadata": {},
   "outputs": [],
   "source": [
    "#Tabela de Direcao Saida"
   ]
  },
  {
   "cell_type": "code",
   "execution_count": null,
   "metadata": {},
   "outputs": [],
   "source": [
    "tabela_direcao_saida = pd.concat([leituras_bvsa['Direcao_Saida'], leituras_dique6c['Direcao_Saida']])\n",
    "tabela_direcao_saida = tabela_direcao_saida.drop_duplicates().sort_values().reset_index(drop=True)\n",
    "direcao_saida = pd.DataFrame(tabela_direcao_saida)\n",
    "direcao_saida = direcao_saida.rename(columns={\"Direcao_Saida\":\"name\"})\n",
    "direcao_saida"
   ]
  },
  {
   "cell_type": "code",
   "execution_count": null,
   "metadata": {},
   "outputs": [],
   "source": [
    "# Tabela de Estado\n",
    "leituras['estado'].value_counts()"
   ]
  },
  {
   "cell_type": "code",
   "execution_count": null,
   "metadata": {},
   "outputs": [],
   "source": [
    "# Leituras duplicadas\n",
    "#leituras[leituras.duplicated(keep=False)]\n",
    "leituras = leituras.drop_duplicates()"
   ]
  },
  {
   "cell_type": "code",
   "execution_count": null,
   "metadata": {},
   "outputs": [],
   "source": [
    "#Tratamento dos dados de localização\n",
    "import geopandas as gpd"
   ]
  },
  {
   "cell_type": "code",
   "execution_count": null,
   "metadata": {},
   "outputs": [],
   "source": [
    "localizacao = gpd.GeoDataFrame(pd.concat([loc_bvsa, loc_dique6c]))\n",
    "localizacao = localizacao.rename(columns={\"Sensor\":\"sensor\", \"Latitude\":\"latitude\", \"Longitude\":\"longitude\", \"Altura\":\"altura\"})"
   ]
  },
  {
   "cell_type": "code",
   "execution_count": null,
   "metadata": {},
   "outputs": [],
   "source": [
    "localizacao['sensor'] = localizacao['sensor'].apply(lambda x: x.replace(\"‐\", '-').strip())"
   ]
  },
  {
   "cell_type": "code",
   "execution_count": null,
   "metadata": {},
   "outputs": [],
   "source": [
    "localizacao['id_sensor'] = localizacao['sensor'].map(dict_sensores)"
   ]
  },
  {
   "cell_type": "code",
   "execution_count": null,
   "metadata": {},
   "outputs": [],
   "source": [
    "localizacao"
   ]
  },
  {
   "cell_type": "code",
   "execution_count": null,
   "metadata": {},
   "outputs": [],
   "source": [
    "x_latitude = localizacao['latitude']\n",
    "y_longitude = localizacao['longitude']\n",
    "z_altura = localizacao['altura']"
   ]
  },
  {
   "cell_type": "code",
   "execution_count": null,
   "metadata": {},
   "outputs": [],
   "source": [
    "localizacao['geom'] = gpd.GeoSeries.from_xy(x =y_longitude, y=x_latitude, z=z_altura, crs='EPSG:4326')"
   ]
  },
  {
   "cell_type": "code",
   "execution_count": null,
   "metadata": {},
   "outputs": [],
   "source": [
    "localizacao = localizacao[['id_sensor', 'sensor', 'latitude', 'longitude', 'altura', 'geom']]"
   ]
  },
  {
   "cell_type": "code",
   "execution_count": null,
   "metadata": {},
   "outputs": [],
   "source": [
    "localizacao.head()"
   ]
  },
  {
   "cell_type": "code",
   "execution_count": null,
   "metadata": {},
   "outputs": [],
   "source": [
    "SGBD_HOMOLOGACAO =  os.environ.get(\"DATABASE_URL\")\n",
    "HOST_HOMOLOGACAO =  os.environ.get(\"PGHOST\")\n",
    "USER_HOMOLOGACAO = os.environ.get(\"PGUSER\")\n",
    "DATABASE_HOMOLOGACAO =  os.environ.get(\"PGDATABASE\")\n",
    "PORT_HOMOLOGACAO =  os.environ.get(\"PGPORT\")\n",
    "PASSWORD_HOMOLOGACAO = os.environ.get(\"PGPASSWORD\")\n",
    "SQLALCHEMY_HOMOLOGACAO = os.environ.get(\"DATABASE_URL\")"
   ]
  },
  {
   "cell_type": "code",
   "execution_count": null,
   "metadata": {},
   "outputs": [],
   "source": [
    "print(\"Criando conexão com o banco.\")\n",
    "try: \n",
    "    engine = create_engine(SQLALCHEMY_HOMOLOGACAO)\n",
    "    conn = engine.connect()\n",
    "    print('Conexão com banco de dados criada...')\n",
    "except:\n",
    "    print('Falha ao criar conexão com banco de dados.')"
   ]
  },
  {
   "cell_type": "code",
   "execution_count": null,
   "metadata": {},
   "outputs": [],
   "source": [
    "localizacao = localizacao.set_geometry('geom')"
   ]
  },
  {
   "cell_type": "code",
   "execution_count": null,
   "metadata": {},
   "outputs": [],
   "source": [
    "localizacao_ = localizacao[['id_sensor', 'sensor', 'latitude', 'longitude', 'altura']]"
   ]
  },
  {
   "cell_type": "code",
   "execution_count": null,
   "metadata": {},
   "outputs": [],
   "source": [
    "sensores.to_sql('sensores', schema='pesquisa', con=conn, if_exists='replace', index=False)\n",
    "unidades.to_sql('unidades', schema='pesquisa', con=conn, if_exists='replace', index=False)\n",
    "direcao_saida.to_sql('direcao_saida', schema='pesquisa', con=conn, if_exists='replace', index=False)\n",
    "leituras.to_sql('leituras', schema='pesquisa', con=conn, if_exists='replace', index=False)\n",
    "localizacao.to_postgis('localizacao', schema='pesquisa', con=conn, if_exists='replace', index=False)"
   ]
  }
 ],
 "metadata": {
  "kernelspec": {
   "display_name": "venv",
   "language": "python",
   "name": "python3"
  },
  "language_info": {
   "codemirror_mode": {
    "name": "ipython",
    "version": 3
   },
   "file_extension": ".py",
   "mimetype": "text/x-python",
   "name": "python",
   "nbconvert_exporter": "python",
   "pygments_lexer": "ipython3",
   "version": "3.9.0"
  },
  "orig_nbformat": 4
 },
 "nbformat": 4,
 "nbformat_minor": 2
}
