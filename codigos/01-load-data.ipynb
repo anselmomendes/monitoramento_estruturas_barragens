{
 "cells": [
  {
   "cell_type": "code",
   "execution_count": null,
   "metadata": {},
   "outputs": [],
   "source": [
    "%matplotlib inline\n",
    "import os\n",
    "import pandas as pd\n",
    "import geopandas as gpd\n",
    "import matplotlib.pyplot as plt\n",
    "from sqlalchemy import create_engine\n",
    "import psycopg2\n",
    "from dotenv import load_dotenv"
   ]
  },
  {
   "cell_type": "code",
   "execution_count": null,
   "metadata": {},
   "outputs": [],
   "source": [
    "#https://www.youtube.com/watch?v=MEEVcpnfElY\n",
    "leituras_dique6c = pd.read_csv('../arquivos/leituras_dique6c.csv')\n",
    "leituras_bvsa = pd.read_csv('../arquivos/leituras_bvsa.csv')"
   ]
  },
  {
   "cell_type": "code",
   "execution_count": null,
   "metadata": {},
   "outputs": [],
   "source": [
    "loc_bvsa = pd.read_csv('../arquivos/loc_bvsa.csv', sep=';', decimal=',')\n",
    "loc_dique6c = pd.read_csv('../arquivos/loc_dique6c.csv', sep=';', decimal=',')"
   ]
  },
  {
   "cell_type": "code",
   "execution_count": null,
   "metadata": {},
   "outputs": [],
   "source": [
    "loc_sensores = pd.read_excel('../arquivos/LOCALIZAÇÃO_SENSORES.xlsx', engine='openpyxl', header=2)"
   ]
  },
  {
   "cell_type": "code",
   "execution_count": null,
   "metadata": {},
   "outputs": [],
   "source": [
    "leituras_dique6c['area'] = 'BVSA'\n",
    "leituras_bvsa['area'] = 'Dique 6C'"
   ]
  },
  {
   "cell_type": "code",
   "execution_count": null,
   "metadata": {},
   "outputs": [],
   "source": [
    "leituras = pd.concat([leituras_bvsa, leituras_dique6c])\n",
    "leituras = leituras.rename(columns={\"Sensor\":\"sensor\", \"Data\":\"data\", \"Valor\":\"valor\", \"Unidade\":\"unidade\", \"Direcao_Saida\":\"direcao_saida\", \"Estado\":\"estado\"})\n",
    "leituras['direcao_saida'] = leituras['direcao_saida'].replace('Cota NA', 'Cota do NA')"
   ]
  },
  {
   "cell_type": "code",
   "execution_count": null,
   "metadata": {},
   "outputs": [],
   "source": [
    "leituras['sensor'] = leituras['sensor']\\\n",
    "    .apply(lambda \\\n",
    "        x: x.replace(\"(I)\", '')\\\n",
    "            .replace(\"(S)\", '')\\\n",
    "                .replace(\"‐\", '-')\\\n",
    "                    .replace(\"-ER\", '')\\\n",
    "                        .replace(\"-TC\", '')\\\n",
    "                            .strip())"
   ]
  },
  {
   "cell_type": "code",
   "execution_count": null,
   "metadata": {},
   "outputs": [],
   "source": [
    "leituras['direcao_saida'].value_counts()"
   ]
  },
  {
   "cell_type": "code",
   "execution_count": null,
   "metadata": {},
   "outputs": [],
   "source": [
    "from sklearn.preprocessing import LabelEncoder\n",
    "le = LabelEncoder()\n",
    "\n",
    "leituras['id_unidade'] = le.fit_transform(leituras['unidade']) +1\n",
    "leituras['id_direcao_saida'] = le.fit_transform(leituras['direcao_saida']) +1\n",
    "leituras['id_estado'] = le.fit_transform(leituras['estado']) +1\n",
    "leituras['id_area'] = le.fit_transform(leituras['area']) + 1\n",
    "\n",
    "leituras = leituras.reset_index(drop=True)"
   ]
  },
  {
   "cell_type": "code",
   "execution_count": null,
   "metadata": {},
   "outputs": [],
   "source": [
    "leituras.groupby(by=['unidade', 'direcao_saida', 'estado', 'area']).agg(pd.Series.nunique)[['sensor']].sort_values(by=['sensor'], ascending=False)"
   ]
  },
  {
   "cell_type": "code",
   "execution_count": null,
   "metadata": {},
   "outputs": [],
   "source": [
    "unidade = leituras[['id_unidade', 'unidade']].sort_values(by=['id_unidade']).drop_duplicates()\n",
    "direcao_saida = leituras[['id_direcao_saida', 'direcao_saida']].sort_values(by=['id_direcao_saida']).drop_duplicates()\n",
    "estado = leituras[['id_estado', 'estado']].sort_values(by=['id_estado']).drop_duplicates()\n",
    "area = leituras[['id_area', 'area']].sort_values(by=['id_area']).drop_duplicates()"
   ]
  },
  {
   "cell_type": "code",
   "execution_count": null,
   "metadata": {},
   "outputs": [],
   "source": [
    "#Criação da tabela de sensores"
   ]
  },
  {
   "cell_type": "code",
   "execution_count": null,
   "metadata": {},
   "outputs": [],
   "source": [
    "tabela_sensores = leituras[['sensor']].drop_duplicates().sort_values(by=['sensor']).reset_index(drop=True)\n",
    "tabela_sensores.index = tabela_sensores.index+1\n",
    "tabela_sensores.reset_index(drop=False, names='id')"
   ]
  },
  {
   "cell_type": "code",
   "execution_count": null,
   "metadata": {},
   "outputs": [],
   "source": [
    "dict_sensores = tabela_sensores.reset_index(names=['id'])[['sensor','id']].to_dict(orient = 'tight')\n",
    "dict_sensores = dict(dict_sensores['data']);"
   ]
  },
  {
   "cell_type": "code",
   "execution_count": null,
   "metadata": {},
   "outputs": [],
   "source": [
    "leituras['id_sensor'] = leituras['sensor'].map(dict_sensores)"
   ]
  },
  {
   "cell_type": "code",
   "execution_count": null,
   "metadata": {},
   "outputs": [],
   "source": [
    "leituras['id_sensor'] = leituras['id_sensor'].apply(lambda x: int(x))"
   ]
  },
  {
   "cell_type": "code",
   "execution_count": null,
   "metadata": {},
   "outputs": [],
   "source": [
    "leituras = leituras[['id_sensor','id_unidade', 'id_direcao_saida', 'id_estado', 'id_area', 'sensor', 'data', 'valor', 'unidade', 'direcao_saida', 'estado', 'area']]"
   ]
  },
  {
   "cell_type": "code",
   "execution_count": null,
   "metadata": {},
   "outputs": [],
   "source": [
    "leituras = leituras.drop_duplicates()"
   ]
  },
  {
   "cell_type": "code",
   "execution_count": null,
   "metadata": {},
   "outputs": [],
   "source": [
    "#Tratamento dos dados de localização\n",
    "import geopandas as gpd"
   ]
  },
  {
   "cell_type": "code",
   "execution_count": null,
   "metadata": {},
   "outputs": [],
   "source": [
    "localizacao = gpd.GeoDataFrame(pd.concat([loc_bvsa, loc_dique6c]))\n",
    "localizacao = localizacao.rename(columns={\"Sensor\":\"sensor\", \"Latitude\":\"latitude\", \"Longitude\":\"longitude\", \"Altura\":\"altura\"})"
   ]
  },
  {
   "cell_type": "code",
   "execution_count": null,
   "metadata": {},
   "outputs": [],
   "source": [
    "localizacao['sensor'] = localizacao['sensor'].apply(lambda x: x.replace(\"(I)\", '').replace(\"(S)\", '').replace(\"‐\", '-').strip())"
   ]
  },
  {
   "cell_type": "code",
   "execution_count": null,
   "metadata": {},
   "outputs": [],
   "source": [
    "localizacao['id_sensor'] = localizacao['sensor'].map(dict_sensores)"
   ]
  },
  {
   "cell_type": "code",
   "execution_count": null,
   "metadata": {},
   "outputs": [],
   "source": [
    "localizacao[localizacao['id_sensor'].isnull()]['sensor'].unique()"
   ]
  },
  {
   "cell_type": "code",
   "execution_count": null,
   "metadata": {},
   "outputs": [],
   "source": [
    "localizacao = localizacao.reset_index(drop=True)\n",
    "localizacao.index = localizacao.index + 1\n",
    "localizacao"
   ]
  },
  {
   "cell_type": "code",
   "execution_count": null,
   "metadata": {},
   "outputs": [],
   "source": [
    "x_latitude = localizacao['latitude']\n",
    "y_longitude = localizacao['longitude']\n",
    "z_altura = localizacao['altura']"
   ]
  },
  {
   "cell_type": "code",
   "execution_count": null,
   "metadata": {},
   "outputs": [],
   "source": [
    "localizacao['geom'] = gpd.GeoSeries.from_xy(x =y_longitude, y=x_latitude, z=z_altura, crs='EPSG:4326')"
   ]
  },
  {
   "cell_type": "code",
   "execution_count": null,
   "metadata": {},
   "outputs": [],
   "source": [
    "localizacao = localizacao[['id_sensor', 'sensor', 'latitude', 'longitude', 'altura', 'geom']]"
   ]
  },
  {
   "cell_type": "code",
   "execution_count": null,
   "metadata": {},
   "outputs": [],
   "source": [
    "localizacao.head()"
   ]
  },
  {
   "cell_type": "code",
   "execution_count": null,
   "metadata": {},
   "outputs": [],
   "source": [
    "from libary.Database import Database"
   ]
  },
  {
   "cell_type": "code",
   "execution_count": null,
   "metadata": {},
   "outputs": [],
   "source": [
    "database = Database(schema='pesquisa', table='view_leituras_sensores', path='../.env', ambiente = 1)"
   ]
  },
  {
   "cell_type": "code",
   "execution_count": null,
   "metadata": {},
   "outputs": [],
   "source": [
    "localizacao = localizacao.set_geometry('geom')"
   ]
  },
  {
   "cell_type": "code",
   "execution_count": null,
   "metadata": {},
   "outputs": [],
   "source": [
    "localizacao_ = localizacao[['id_sensor', 'sensor', 'latitude', 'longitude', 'altura']]"
   ]
  },
  {
   "cell_type": "code",
   "execution_count": null,
   "metadata": {},
   "outputs": [],
   "source": [
    "leituras = leituras.rename(columns={'index': 'id'})\n",
    "localizacao = localizacao.rename(columns={'index': 'id'})"
   ]
  },
  {
   "cell_type": "code",
   "execution_count": null,
   "metadata": {},
   "outputs": [],
   "source": [
    "from libary.Database import Database"
   ]
  },
  {
   "cell_type": "code",
   "execution_count": null,
   "metadata": {},
   "outputs": [],
   "source": [
    "tabela_sensores = leituras[['sensor']].drop_duplicates().sort_values(by=['sensor']).reset_index(drop=True)\n",
    "tabela_sensores.index = tabela_sensores.index+1\n",
    "tabela_sensores.reset_index(drop=False, names='id');"
   ]
  },
  {
   "cell_type": "code",
   "execution_count": null,
   "metadata": {},
   "outputs": [],
   "source": [
    "database = Database(schema='pesquisa', table='sensores', ambiente = 0, path='../.env')\n",
    "database.truncate_table()\n",
    "database.to_table(df=tabela_sensores, schema='pequisa', table='sensores')"
   ]
  },
  {
   "cell_type": "code",
   "execution_count": null,
   "metadata": {},
   "outputs": [],
   "source": [
    "database = Database(schema='pesquisa', table='unidade', ambiente = 0, path='../.env')\n",
    "database.truncate_table()\n",
    "database.to_table(df=unidade, schema='pequisa', table='unidade')"
   ]
  },
  {
   "cell_type": "code",
   "execution_count": null,
   "metadata": {},
   "outputs": [],
   "source": [
    "database = Database(schema='pesquisa', table='direcao_saida', ambiente = 0, path='../.env')\n",
    "database.truncate_table()\n",
    "database.to_table(df=direcao_saida, schema='pequisa', table='direcao_saida')"
   ]
  },
  {
   "cell_type": "code",
   "execution_count": null,
   "metadata": {},
   "outputs": [],
   "source": [
    "database = Database(schema='pesquisa', table='area', ambiente = 0, path='../.env')\n",
    "database.truncate_table()\n",
    "database.to_table(df=area, schema='pequisa', table='area')"
   ]
  },
  {
   "cell_type": "code",
   "execution_count": null,
   "metadata": {},
   "outputs": [],
   "source": [
    "database = Database(schema='pesquisa', table='estado', ambiente = 0, path='../.env')\n",
    "database.truncate_table()\n",
    "database.to_table(df=estado, schema='pequisa', table='estado')"
   ]
  },
  {
   "cell_type": "code",
   "execution_count": null,
   "metadata": {},
   "outputs": [],
   "source": [
    "database = Database(schema='pesquisa', table='leituras', ambiente = 0, path='../.env')\n",
    "database.truncate_table()\n",
    "database.to_table(df=leituras, schema='pequisa', table='leituras')"
   ]
  },
  {
   "cell_type": "code",
   "execution_count": null,
   "metadata": {},
   "outputs": [],
   "source": [
    "database = Database(schema='pesquisa', table='localizacao', ambiente = 0, path='../.env')\n",
    "database.truncate_table()\n",
    "database.to_table(df=localizacao, schema='pequisa', table='localizacao', geom=True)"
   ]
  },
  {
   "cell_type": "code",
   "execution_count": null,
   "metadata": {},
   "outputs": [],
   "source": [
    "tabela_sensores.to_excel('../tabelas/sensores.xlsx')\n",
    "unidade.to_excel('../tabelas/unidades.xlsx')\n",
    "direcao_saida.to_excel('../tabelas/direcao_saida.xlsx')\n",
    "leituras.to_excel('../tabelas/leituras.xlsx')\n",
    "localizacao.to_excel('../tabelas/localizacao.xlsx')"
   ]
  }
 ],
 "metadata": {
  "kernelspec": {
   "display_name": "venv",
   "language": "python",
   "name": "python3"
  },
  "language_info": {
   "codemirror_mode": {
    "name": "ipython",
    "version": 3
   },
   "file_extension": ".py",
   "mimetype": "text/x-python",
   "name": "python",
   "nbconvert_exporter": "python",
   "pygments_lexer": "ipython3",
   "version": "3.9.0"
  },
  "orig_nbformat": 4
 },
 "nbformat": 4,
 "nbformat_minor": 2
}
