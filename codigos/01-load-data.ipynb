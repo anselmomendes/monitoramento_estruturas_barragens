{
 "cells": [
  {
   "cell_type": "code",
   "execution_count": 1,
   "metadata": {},
   "outputs": [],
   "source": [
    "%matplotlib inline\n",
    "import os\n",
    "import pandas as pd\n",
    "import geopandas as gpd\n",
    "import matplotlib.pyplot as plt\n",
    "from sqlalchemy import create_engine\n",
    "import psycopg2\n",
    "from dotenv import load_dotenv"
   ]
  },
  {
   "cell_type": "code",
   "execution_count": 2,
   "metadata": {},
   "outputs": [],
   "source": [
    "#https://www.youtube.com/watch?v=MEEVcpnfElY\n",
    "leituras_dique6c = pd.read_csv('../arquivos/leituras_dique6c.csv')\n",
    "leituras_bvsa = pd.read_csv('../arquivos/leituras_bvsa.csv')"
   ]
  },
  {
   "cell_type": "code",
   "execution_count": 3,
   "metadata": {},
   "outputs": [],
   "source": [
    "loc_bvsa = pd.read_csv('../arquivos/loc_bvsa.csv', sep=';', decimal=',')\n",
    "loc_dique6c = pd.read_csv('../arquivos/loc_dique6c.csv', sep=';', decimal=',')"
   ]
  },
  {
   "cell_type": "code",
   "execution_count": 4,
   "metadata": {},
   "outputs": [],
   "source": [
    "loc_sensores = pd.read_excel('../arquivos/LOCALIZAÇÃO_SENSORES.xlsx', engine='openpyxl', header=2)"
   ]
  },
  {
   "cell_type": "code",
   "execution_count": 5,
   "metadata": {},
   "outputs": [],
   "source": [
    "leituras_dique6c['area'] = 'BVSA'\n",
    "leituras_bvsa['area'] = 'Dique 6C'"
   ]
  },
  {
   "cell_type": "code",
   "execution_count": 6,
   "metadata": {},
   "outputs": [],
   "source": [
    "leituras = pd.concat([leituras_bvsa, leituras_dique6c])\n",
    "leituras = leituras.rename(columns={\"Sensor\":\"sensor\", \"Data\":\"data\", \"Valor\":\"valor\", \"Unidade\":\"unidade\", \"Direcao_Saida\":\"direcao_saida\", \"Estado\":\"estado\"})\n",
    "leituras['direcao_saida'] = leituras['direcao_saida'].replace('Cota NA', 'Cota do NA')"
   ]
  },
  {
   "cell_type": "code",
   "execution_count": 7,
   "metadata": {},
   "outputs": [],
   "source": [
    "leituras['sensor'] = leituras['sensor']\\\n",
    "    .apply(lambda \\\n",
    "        x: x.replace(\"(I)\", '')\\\n",
    "            .replace(\"(S)\", '')\\\n",
    "                .replace(\"‐\", '-')\\\n",
    "                    .replace(\"-ER\", '')\\\n",
    "                        .replace(\"-TC\", '')\\\n",
    "                            .strip())"
   ]
  },
  {
   "cell_type": "code",
   "execution_count": 8,
   "metadata": {},
   "outputs": [
    {
     "data": {
      "text/plain": [
       "Cota Piezométrica                             19204\n",
       "Carga Piezométrica                            19204\n",
       "Vazão                                         10554\n",
       "Cota do NA                                     6227\n",
       "Recalque (Z)                                   1007\n",
       "Deslocamento Longitudinal (X)                  1007\n",
       "Deslocamento Transversal (Y)                   1007\n",
       "Recalque                                        819\n",
       "Deslocamento da Estaca Dir(-)/Esq(+)            819\n",
       "Deslocamento do Afastamento Mont(-)/Jus(+)      819\n",
       "Leitura                                          32\n",
       "Name: direcao_saida, dtype: int64"
      ]
     },
     "execution_count": 8,
     "metadata": {},
     "output_type": "execute_result"
    }
   ],
   "source": [
    "leituras['direcao_saida'].value_counts()"
   ]
  },
  {
   "cell_type": "code",
   "execution_count": 9,
   "metadata": {},
   "outputs": [],
   "source": [
    "from sklearn.preprocessing import LabelEncoder\n",
    "le = LabelEncoder()\n",
    "\n",
    "leituras['id_unidade'] = le.fit_transform(leituras['unidade']) +1\n",
    "leituras['id_direcao_saida'] = le.fit_transform(leituras['direcao_saida']) +1\n",
    "leituras['id_estado'] = le.fit_transform(leituras['estado']) +1\n",
    "leituras['id_area'] = le.fit_transform(leituras['area']) + 1\n",
    "\n",
    "leituras = leituras.reset_index(drop=True)"
   ]
  },
  {
   "cell_type": "code",
   "execution_count": 10,
   "metadata": {},
   "outputs": [
    {
     "data": {
      "text/html": [
       "<div>\n",
       "<style scoped>\n",
       "    .dataframe tbody tr th:only-of-type {\n",
       "        vertical-align: middle;\n",
       "    }\n",
       "\n",
       "    .dataframe tbody tr th {\n",
       "        vertical-align: top;\n",
       "    }\n",
       "\n",
       "    .dataframe thead th {\n",
       "        text-align: right;\n",
       "    }\n",
       "</style>\n",
       "<table border=\"1\" class=\"dataframe\">\n",
       "  <thead>\n",
       "    <tr style=\"text-align: right;\">\n",
       "      <th></th>\n",
       "      <th></th>\n",
       "      <th></th>\n",
       "      <th></th>\n",
       "      <th>sensor</th>\n",
       "    </tr>\n",
       "    <tr>\n",
       "      <th>unidade</th>\n",
       "      <th>direcao_saida</th>\n",
       "      <th>estado</th>\n",
       "      <th>area</th>\n",
       "      <th></th>\n",
       "    </tr>\n",
       "  </thead>\n",
       "  <tbody>\n",
       "    <tr>\n",
       "      <th>m.c.a</th>\n",
       "      <th>Carga Piezométrica</th>\n",
       "      <th>normal</th>\n",
       "      <th>BVSA</th>\n",
       "      <td>36</td>\n",
       "    </tr>\n",
       "    <tr>\n",
       "      <th rowspan=\"2\" valign=\"top\">m</th>\n",
       "      <th>Cota Piezométrica</th>\n",
       "      <th>normal</th>\n",
       "      <th>BVSA</th>\n",
       "      <td>36</td>\n",
       "    </tr>\n",
       "    <tr>\n",
       "      <th>Cota do NA</th>\n",
       "      <th>normal</th>\n",
       "      <th>BVSA</th>\n",
       "      <td>35</td>\n",
       "    </tr>\n",
       "    <tr>\n",
       "      <th>m.c.a</th>\n",
       "      <th>Carga Piezométrica</th>\n",
       "      <th>normal</th>\n",
       "      <th>Dique 6C</th>\n",
       "      <td>29</td>\n",
       "    </tr>\n",
       "    <tr>\n",
       "      <th rowspan=\"13\" valign=\"top\">m</th>\n",
       "      <th>Cota Piezométrica</th>\n",
       "      <th>normal</th>\n",
       "      <th>Dique 6C</th>\n",
       "      <td>29</td>\n",
       "    </tr>\n",
       "    <tr>\n",
       "      <th>Deslocamento Longitudinal (X)</th>\n",
       "      <th>normal</th>\n",
       "      <th>BVSA</th>\n",
       "      <td>18</td>\n",
       "    </tr>\n",
       "    <tr>\n",
       "      <th>Deslocamento da Estaca Dir(-)/Esq(+)</th>\n",
       "      <th>normal</th>\n",
       "      <th>BVSA</th>\n",
       "      <td>18</td>\n",
       "    </tr>\n",
       "    <tr>\n",
       "      <th>Deslocamento do Afastamento Mont(-)/Jus(+)</th>\n",
       "      <th>normal</th>\n",
       "      <th>BVSA</th>\n",
       "      <td>18</td>\n",
       "    </tr>\n",
       "    <tr>\n",
       "      <th>Recalque</th>\n",
       "      <th>normal</th>\n",
       "      <th>BVSA</th>\n",
       "      <td>18</td>\n",
       "    </tr>\n",
       "    <tr>\n",
       "      <th>Recalque (Z)</th>\n",
       "      <th>normal</th>\n",
       "      <th>Dique 6C</th>\n",
       "      <td>18</td>\n",
       "    </tr>\n",
       "    <tr>\n",
       "      <th>Deslocamento Longitudinal (X)</th>\n",
       "      <th>normal</th>\n",
       "      <th>Dique 6C</th>\n",
       "      <td>18</td>\n",
       "    </tr>\n",
       "    <tr>\n",
       "      <th rowspan=\"2\" valign=\"top\">Deslocamento Transversal (Y)</th>\n",
       "      <th rowspan=\"2\" valign=\"top\">normal</th>\n",
       "      <th>BVSA</th>\n",
       "      <td>18</td>\n",
       "    </tr>\n",
       "    <tr>\n",
       "      <th>Dique 6C</th>\n",
       "      <td>18</td>\n",
       "    </tr>\n",
       "    <tr>\n",
       "      <th>Recalque (Z)</th>\n",
       "      <th>normal</th>\n",
       "      <th>BVSA</th>\n",
       "      <td>18</td>\n",
       "    </tr>\n",
       "    <tr>\n",
       "      <th>Recalque</th>\n",
       "      <th>normal</th>\n",
       "      <th>Dique 6C</th>\n",
       "      <td>8</td>\n",
       "    </tr>\n",
       "    <tr>\n",
       "      <th>Deslocamento da Estaca Dir(-)/Esq(+)</th>\n",
       "      <th>normal</th>\n",
       "      <th>Dique 6C</th>\n",
       "      <td>8</td>\n",
       "    </tr>\n",
       "    <tr>\n",
       "      <th>Deslocamento do Afastamento Mont(-)/Jus(+)</th>\n",
       "      <th>normal</th>\n",
       "      <th>Dique 6C</th>\n",
       "      <td>8</td>\n",
       "    </tr>\n",
       "    <tr>\n",
       "      <th>l/s</th>\n",
       "      <th>Vazão</th>\n",
       "      <th>normal</th>\n",
       "      <th>BVSA</th>\n",
       "      <td>7</td>\n",
       "    </tr>\n",
       "    <tr>\n",
       "      <th>l/min</th>\n",
       "      <th>Vazão</th>\n",
       "      <th>normal</th>\n",
       "      <th>BVSA</th>\n",
       "      <td>7</td>\n",
       "    </tr>\n",
       "    <tr>\n",
       "      <th>m</th>\n",
       "      <th>Recalque</th>\n",
       "      <th>atencao</th>\n",
       "      <th>BVSA</th>\n",
       "      <td>6</td>\n",
       "    </tr>\n",
       "    <tr>\n",
       "      <th rowspan=\"2\" valign=\"top\">m3/s</th>\n",
       "      <th rowspan=\"2\" valign=\"top\">Vazão</th>\n",
       "      <th rowspan=\"2\" valign=\"top\">normal</th>\n",
       "      <th>BVSA</th>\n",
       "      <td>6</td>\n",
       "    </tr>\n",
       "    <tr>\n",
       "      <th>Dique 6C</th>\n",
       "      <td>4</td>\n",
       "    </tr>\n",
       "    <tr>\n",
       "      <th>m</th>\n",
       "      <th>Deslocamento do Afastamento Mont(-)/Jus(+)</th>\n",
       "      <th>atencao</th>\n",
       "      <th>BVSA</th>\n",
       "      <td>4</td>\n",
       "    </tr>\n",
       "    <tr>\n",
       "      <th>l/min</th>\n",
       "      <th>Vazão</th>\n",
       "      <th>normal</th>\n",
       "      <th>Dique 6C</th>\n",
       "      <td>4</td>\n",
       "    </tr>\n",
       "    <tr>\n",
       "      <th>l/s</th>\n",
       "      <th>Vazão</th>\n",
       "      <th>normal</th>\n",
       "      <th>Dique 6C</th>\n",
       "      <td>4</td>\n",
       "    </tr>\n",
       "    <tr>\n",
       "      <th rowspan=\"4\" valign=\"top\">m</th>\n",
       "      <th>Deslocamento do Afastamento Mont(-)/Jus(+)</th>\n",
       "      <th>atencao</th>\n",
       "      <th>Dique 6C</th>\n",
       "      <td>3</td>\n",
       "    </tr>\n",
       "    <tr>\n",
       "      <th>Cota do NA</th>\n",
       "      <th>normal</th>\n",
       "      <th>Dique 6C</th>\n",
       "      <td>2</td>\n",
       "    </tr>\n",
       "    <tr>\n",
       "      <th>Recalque</th>\n",
       "      <th>atencao</th>\n",
       "      <th>Dique 6C</th>\n",
       "      <td>1</td>\n",
       "    </tr>\n",
       "    <tr>\n",
       "      <th>Deslocamento da Estaca Dir(-)/Esq(+)</th>\n",
       "      <th>atencao</th>\n",
       "      <th>BVSA</th>\n",
       "      <td>1</td>\n",
       "    </tr>\n",
       "    <tr>\n",
       "      <th rowspan=\"3\" valign=\"top\">m.c.a</th>\n",
       "      <th rowspan=\"3\" valign=\"top\">Carga Piezométrica</th>\n",
       "      <th>alerta</th>\n",
       "      <th>Dique 6C</th>\n",
       "      <td>1</td>\n",
       "    </tr>\n",
       "    <tr>\n",
       "      <th rowspan=\"2\" valign=\"top\">atencao</th>\n",
       "      <th>BVSA</th>\n",
       "      <td>1</td>\n",
       "    </tr>\n",
       "    <tr>\n",
       "      <th>Dique 6C</th>\n",
       "      <td>1</td>\n",
       "    </tr>\n",
       "    <tr>\n",
       "      <th rowspan=\"2\" valign=\"top\">m</th>\n",
       "      <th rowspan=\"2\" valign=\"top\">Cota Piezométrica</th>\n",
       "      <th rowspan=\"2\" valign=\"top\">atencao</th>\n",
       "      <th>Dique 6C</th>\n",
       "      <td>1</td>\n",
       "    </tr>\n",
       "    <tr>\n",
       "      <th>BVSA</th>\n",
       "      <td>1</td>\n",
       "    </tr>\n",
       "    <tr>\n",
       "      <th>m3/min</th>\n",
       "      <th>Vazão</th>\n",
       "      <th>normal</th>\n",
       "      <th>BVSA</th>\n",
       "      <td>1</td>\n",
       "    </tr>\n",
       "    <tr>\n",
       "      <th>m</th>\n",
       "      <th>Cota Piezométrica</th>\n",
       "      <th>alerta</th>\n",
       "      <th>Dique 6C</th>\n",
       "      <td>1</td>\n",
       "    </tr>\n",
       "    <tr>\n",
       "      <th>seg</th>\n",
       "      <th>Leitura</th>\n",
       "      <th>normal</th>\n",
       "      <th>BVSA</th>\n",
       "      <td>1</td>\n",
       "    </tr>\n",
       "  </tbody>\n",
       "</table>\n",
       "</div>"
      ],
      "text/plain": [
       "                                                                     sensor\n",
       "unidade direcao_saida                              estado  area            \n",
       "m.c.a   Carga Piezométrica                         normal  BVSA          36\n",
       "m       Cota Piezométrica                          normal  BVSA          36\n",
       "        Cota do NA                                 normal  BVSA          35\n",
       "m.c.a   Carga Piezométrica                         normal  Dique 6C      29\n",
       "m       Cota Piezométrica                          normal  Dique 6C      29\n",
       "        Deslocamento Longitudinal (X)              normal  BVSA          18\n",
       "        Deslocamento da Estaca Dir(-)/Esq(+)       normal  BVSA          18\n",
       "        Deslocamento do Afastamento Mont(-)/Jus(+) normal  BVSA          18\n",
       "        Recalque                                   normal  BVSA          18\n",
       "        Recalque (Z)                               normal  Dique 6C      18\n",
       "        Deslocamento Longitudinal (X)              normal  Dique 6C      18\n",
       "        Deslocamento Transversal (Y)               normal  BVSA          18\n",
       "                                                           Dique 6C      18\n",
       "        Recalque (Z)                               normal  BVSA          18\n",
       "        Recalque                                   normal  Dique 6C       8\n",
       "        Deslocamento da Estaca Dir(-)/Esq(+)       normal  Dique 6C       8\n",
       "        Deslocamento do Afastamento Mont(-)/Jus(+) normal  Dique 6C       8\n",
       "l/s     Vazão                                      normal  BVSA           7\n",
       "l/min   Vazão                                      normal  BVSA           7\n",
       "m       Recalque                                   atencao BVSA           6\n",
       "m3/s    Vazão                                      normal  BVSA           6\n",
       "                                                           Dique 6C       4\n",
       "m       Deslocamento do Afastamento Mont(-)/Jus(+) atencao BVSA           4\n",
       "l/min   Vazão                                      normal  Dique 6C       4\n",
       "l/s     Vazão                                      normal  Dique 6C       4\n",
       "m       Deslocamento do Afastamento Mont(-)/Jus(+) atencao Dique 6C       3\n",
       "        Cota do NA                                 normal  Dique 6C       2\n",
       "        Recalque                                   atencao Dique 6C       1\n",
       "        Deslocamento da Estaca Dir(-)/Esq(+)       atencao BVSA           1\n",
       "m.c.a   Carga Piezométrica                         alerta  Dique 6C       1\n",
       "                                                   atencao BVSA           1\n",
       "                                                           Dique 6C       1\n",
       "m       Cota Piezométrica                          atencao Dique 6C       1\n",
       "                                                           BVSA           1\n",
       "m3/min  Vazão                                      normal  BVSA           1\n",
       "m       Cota Piezométrica                          alerta  Dique 6C       1\n",
       "seg     Leitura                                    normal  BVSA           1"
      ]
     },
     "execution_count": 10,
     "metadata": {},
     "output_type": "execute_result"
    }
   ],
   "source": [
    "leituras.groupby(by=['unidade', 'direcao_saida', 'estado', 'area']).agg(pd.Series.nunique)[['sensor']].sort_values(by=['sensor'], ascending=False)"
   ]
  },
  {
   "cell_type": "code",
   "execution_count": 11,
   "metadata": {},
   "outputs": [],
   "source": [
    "unidade = leituras[['id_unidade', 'unidade']].sort_values(by=['id_unidade']).drop_duplicates()\n",
    "direcao_saida = leituras[['id_direcao_saida', 'direcao_saida']].sort_values(by=['id_direcao_saida']).drop_duplicates()\n",
    "estado = leituras[['id_estado', 'estado']].sort_values(by=['id_estado']).drop_duplicates()\n",
    "area = leituras[['id_area', 'area']].sort_values(by=['id_area']).drop_duplicates()"
   ]
  },
  {
   "cell_type": "code",
   "execution_count": 12,
   "metadata": {},
   "outputs": [],
   "source": [
    "#Criação da tabela de sensores"
   ]
  },
  {
   "cell_type": "code",
   "execution_count": 13,
   "metadata": {},
   "outputs": [],
   "source": [
    "tabela_sensores = leituras[['sensor']].drop_duplicates().sort_values(by=['sensor']).reset_index(drop=True)\n",
    "tabela_sensores.index = tabela_sensores.index+1"
   ]
  },
  {
   "cell_type": "code",
   "execution_count": 14,
   "metadata": {},
   "outputs": [],
   "source": [
    "tabela_sensores.to_excel('../tabelas/sensores.xlsx')"
   ]
  },
  {
   "cell_type": "code",
   "execution_count": 15,
   "metadata": {},
   "outputs": [
    {
     "data": {
      "text/html": [
       "<div>\n",
       "<style scoped>\n",
       "    .dataframe tbody tr th:only-of-type {\n",
       "        vertical-align: middle;\n",
       "    }\n",
       "\n",
       "    .dataframe tbody tr th {\n",
       "        vertical-align: top;\n",
       "    }\n",
       "\n",
       "    .dataframe thead th {\n",
       "        text-align: right;\n",
       "    }\n",
       "</style>\n",
       "<table border=\"1\" class=\"dataframe\">\n",
       "  <thead>\n",
       "    <tr style=\"text-align: right;\">\n",
       "      <th></th>\n",
       "      <th>sensor</th>\n",
       "    </tr>\n",
       "  </thead>\n",
       "  <tbody>\n",
       "    <tr>\n",
       "      <th>1</th>\n",
       "      <td>MNA-AEF1-01</td>\n",
       "    </tr>\n",
       "    <tr>\n",
       "      <th>2</th>\n",
       "      <td>MNA-AEF1-02</td>\n",
       "    </tr>\n",
       "    <tr>\n",
       "      <th>3</th>\n",
       "      <td>MNA-BM-BV-51</td>\n",
       "    </tr>\n",
       "    <tr>\n",
       "      <th>4</th>\n",
       "      <td>MNA-BM-BV-81</td>\n",
       "    </tr>\n",
       "    <tr>\n",
       "      <th>5</th>\n",
       "      <td>MNA-SM-7500A</td>\n",
       "    </tr>\n",
       "    <tr>\n",
       "      <th>...</th>\n",
       "      <td>...</td>\n",
       "    </tr>\n",
       "    <tr>\n",
       "      <th>145</th>\n",
       "      <td>PZ-JF1-02</td>\n",
       "    </tr>\n",
       "    <tr>\n",
       "      <th>146</th>\n",
       "      <td>PZ-JF1-03</td>\n",
       "    </tr>\n",
       "    <tr>\n",
       "      <th>147</th>\n",
       "      <td>PZ-JF1-04</td>\n",
       "    </tr>\n",
       "    <tr>\n",
       "      <th>148</th>\n",
       "      <td>PZ-JF1-05</td>\n",
       "    </tr>\n",
       "    <tr>\n",
       "      <th>149</th>\n",
       "      <td>PZ-JF1-06</td>\n",
       "    </tr>\n",
       "  </tbody>\n",
       "</table>\n",
       "<p>149 rows × 1 columns</p>\n",
       "</div>"
      ],
      "text/plain": [
       "           sensor\n",
       "1     MNA-AEF1-01\n",
       "2     MNA-AEF1-02\n",
       "3    MNA-BM-BV-51\n",
       "4    MNA-BM-BV-81\n",
       "5    MNA-SM-7500A\n",
       "..            ...\n",
       "145     PZ-JF1-02\n",
       "146     PZ-JF1-03\n",
       "147     PZ-JF1-04\n",
       "148     PZ-JF1-05\n",
       "149     PZ-JF1-06\n",
       "\n",
       "[149 rows x 1 columns]"
      ]
     },
     "execution_count": 15,
     "metadata": {},
     "output_type": "execute_result"
    }
   ],
   "source": [
    "tabela_sensores"
   ]
  },
  {
   "cell_type": "code",
   "execution_count": 16,
   "metadata": {},
   "outputs": [],
   "source": [
    "dict_sensores = tabela_sensores.reset_index(names=['id'])[['sensor','id']].to_dict(orient = 'tight')\n",
    "dict_sensores = dict(dict_sensores['data']);"
   ]
  },
  {
   "cell_type": "code",
   "execution_count": 17,
   "metadata": {},
   "outputs": [],
   "source": [
    "leituras['id_sensor'] = leituras['sensor'].map(dict_sensores)"
   ]
  },
  {
   "cell_type": "code",
   "execution_count": 18,
   "metadata": {},
   "outputs": [
    {
     "data": {
      "text/html": [
       "<div>\n",
       "<style scoped>\n",
       "    .dataframe tbody tr th:only-of-type {\n",
       "        vertical-align: middle;\n",
       "    }\n",
       "\n",
       "    .dataframe tbody tr th {\n",
       "        vertical-align: top;\n",
       "    }\n",
       "\n",
       "    .dataframe thead th {\n",
       "        text-align: right;\n",
       "    }\n",
       "</style>\n",
       "<table border=\"1\" class=\"dataframe\">\n",
       "  <thead>\n",
       "    <tr style=\"text-align: right;\">\n",
       "      <th></th>\n",
       "      <th>sensor</th>\n",
       "      <th>data</th>\n",
       "      <th>valor</th>\n",
       "      <th>unidade</th>\n",
       "      <th>direcao_saida</th>\n",
       "      <th>estado</th>\n",
       "      <th>area</th>\n",
       "      <th>id_unidade</th>\n",
       "      <th>id_direcao_saida</th>\n",
       "      <th>id_estado</th>\n",
       "      <th>id_area</th>\n",
       "      <th>id_sensor</th>\n",
       "    </tr>\n",
       "  </thead>\n",
       "  <tbody>\n",
       "  </tbody>\n",
       "</table>\n",
       "</div>"
      ],
      "text/plain": [
       "Empty DataFrame\n",
       "Columns: [sensor, data, valor, unidade, direcao_saida, estado, area, id_unidade, id_direcao_saida, id_estado, id_area, id_sensor]\n",
       "Index: []"
      ]
     },
     "execution_count": 18,
     "metadata": {},
     "output_type": "execute_result"
    }
   ],
   "source": [
    "leituras[leituras['id_sensor'].isna()]"
   ]
  },
  {
   "cell_type": "code",
   "execution_count": 19,
   "metadata": {},
   "outputs": [],
   "source": [
    "leituras['id_sensor'] = leituras['id_sensor'].apply(lambda x: int(x))"
   ]
  },
  {
   "cell_type": "code",
   "execution_count": 20,
   "metadata": {},
   "outputs": [],
   "source": [
    "leituras = leituras[['id_sensor','id_unidade', 'id_direcao_saida', 'id_estado', 'id_area', 'sensor', 'data', 'valor', 'unidade', 'direcao_saida', 'estado', 'area']]"
   ]
  },
  {
   "cell_type": "code",
   "execution_count": 21,
   "metadata": {},
   "outputs": [],
   "source": [
    "leituras = leituras.drop_duplicates()"
   ]
  },
  {
   "cell_type": "code",
   "execution_count": 22,
   "metadata": {},
   "outputs": [],
   "source": [
    "#Tratamento dos dados de localização\n",
    "import geopandas as gpd"
   ]
  },
  {
   "cell_type": "code",
   "execution_count": 23,
   "metadata": {},
   "outputs": [],
   "source": [
    "localizacao = gpd.GeoDataFrame(pd.concat([loc_bvsa, loc_dique6c]))\n",
    "localizacao = localizacao.rename(columns={\"Sensor\":\"sensor\", \"Latitude\":\"latitude\", \"Longitude\":\"longitude\", \"Altura\":\"altura\"})"
   ]
  },
  {
   "cell_type": "code",
   "execution_count": 24,
   "metadata": {},
   "outputs": [],
   "source": [
    "localizacao['sensor'] = localizacao['sensor'].apply(lambda x: x.replace(\"(I)\", '').replace(\"(S)\", '').replace(\"‐\", '-').strip())"
   ]
  },
  {
   "cell_type": "code",
   "execution_count": 25,
   "metadata": {},
   "outputs": [],
   "source": [
    "localizacao['id_sensor'] = localizacao['sensor'].map(dict_sensores)"
   ]
  },
  {
   "cell_type": "code",
   "execution_count": 26,
   "metadata": {},
   "outputs": [
    {
     "data": {
      "text/plain": [
       "array(['RN-BM-BV-01', 'RN-BM-BV-02', 'RN-BM-BV-03', 'RN-BM-BV-04',\n",
       "       'IN-BM-BV-11', 'IN-BM-BV-12', 'MR-BM-BV-11', 'MR-BM-BV-31',\n",
       "       'PZ-D06C-18', 'RN-D06C-01', 'RN-D06C-02', 'RN-D06C-03',\n",
       "       'RN-D06C-04', 'RM-D06C-01', 'RM-D06C-02', 'RM-D06C-03',\n",
       "       'RM-D06C-04'], dtype=object)"
      ]
     },
     "execution_count": 26,
     "metadata": {},
     "output_type": "execute_result"
    }
   ],
   "source": [
    "localizacao[localizacao['id_sensor'].isnull()]['sensor'].unique()"
   ]
  },
  {
   "cell_type": "code",
   "execution_count": 27,
   "metadata": {},
   "outputs": [
    {
     "data": {
      "text/html": [
       "<div>\n",
       "<style scoped>\n",
       "    .dataframe tbody tr th:only-of-type {\n",
       "        vertical-align: middle;\n",
       "    }\n",
       "\n",
       "    .dataframe tbody tr th {\n",
       "        vertical-align: top;\n",
       "    }\n",
       "\n",
       "    .dataframe thead th {\n",
       "        text-align: right;\n",
       "    }\n",
       "</style>\n",
       "<table border=\"1\" class=\"dataframe\">\n",
       "  <thead>\n",
       "    <tr style=\"text-align: right;\">\n",
       "      <th></th>\n",
       "      <th>sensor</th>\n",
       "      <th>N</th>\n",
       "      <th>E</th>\n",
       "      <th>latitude</th>\n",
       "      <th>longitude</th>\n",
       "      <th>altura</th>\n",
       "      <th>id_sensor</th>\n",
       "    </tr>\n",
       "  </thead>\n",
       "  <tbody>\n",
       "    <tr>\n",
       "      <th>1</th>\n",
       "      <td>PZ-BM-BV-11</td>\n",
       "      <td>9.652626e+09</td>\n",
       "      <td>412507056.0</td>\n",
       "      <td>-3.142831</td>\n",
       "      <td>-51.787880</td>\n",
       "      <td>74.48</td>\n",
       "      <td>91.0</td>\n",
       "    </tr>\n",
       "    <tr>\n",
       "      <th>2</th>\n",
       "      <td>PZ-BM-BV-12</td>\n",
       "      <td>9.652626e+09</td>\n",
       "      <td>412507056.0</td>\n",
       "      <td>-3.142831</td>\n",
       "      <td>-51.787880</td>\n",
       "      <td>59.15</td>\n",
       "      <td>92.0</td>\n",
       "    </tr>\n",
       "    <tr>\n",
       "      <th>3</th>\n",
       "      <td>PZ-BM-BV-13</td>\n",
       "      <td>9.652636e+09</td>\n",
       "      <td>412475409.0</td>\n",
       "      <td>-3.142733</td>\n",
       "      <td>-51.788165</td>\n",
       "      <td>69.96</td>\n",
       "      <td>93.0</td>\n",
       "    </tr>\n",
       "    <tr>\n",
       "      <th>4</th>\n",
       "      <td>PZ-BM-BV-14</td>\n",
       "      <td>9.652636e+09</td>\n",
       "      <td>412475409.0</td>\n",
       "      <td>-3.142733</td>\n",
       "      <td>-51.788165</td>\n",
       "      <td>54.44</td>\n",
       "      <td>94.0</td>\n",
       "    </tr>\n",
       "    <tr>\n",
       "      <th>5</th>\n",
       "      <td>PZ-BM-BV-15</td>\n",
       "      <td>9.652622e+09</td>\n",
       "      <td>412336622.0</td>\n",
       "      <td>-3.142866</td>\n",
       "      <td>-51.789414</td>\n",
       "      <td>65.00</td>\n",
       "      <td>95.0</td>\n",
       "    </tr>\n",
       "    <tr>\n",
       "      <th>...</th>\n",
       "      <td>...</td>\n",
       "      <td>...</td>\n",
       "      <td>...</td>\n",
       "      <td>...</td>\n",
       "      <td>...</td>\n",
       "      <td>...</td>\n",
       "      <td>...</td>\n",
       "    </tr>\n",
       "    <tr>\n",
       "      <th>117</th>\n",
       "      <td>MV-D06C-04</td>\n",
       "      <td>9.652152e+09</td>\n",
       "      <td>413817837.0</td>\n",
       "      <td>-3.147122</td>\n",
       "      <td>-51.776087</td>\n",
       "      <td>65.00</td>\n",
       "      <td>60.0</td>\n",
       "    </tr>\n",
       "    <tr>\n",
       "      <th>118</th>\n",
       "      <td>RM-D06C-01</td>\n",
       "      <td>9.651928e+09</td>\n",
       "      <td>413655231.0</td>\n",
       "      <td>-3.149147</td>\n",
       "      <td>-51.777552</td>\n",
       "      <td>100.00</td>\n",
       "      <td>NaN</td>\n",
       "    </tr>\n",
       "    <tr>\n",
       "      <th>119</th>\n",
       "      <td>RM-D06C-02</td>\n",
       "      <td>9.651928e+09</td>\n",
       "      <td>413655231.0</td>\n",
       "      <td>-3.149147</td>\n",
       "      <td>-51.777552</td>\n",
       "      <td>100.00</td>\n",
       "      <td>NaN</td>\n",
       "    </tr>\n",
       "    <tr>\n",
       "      <th>120</th>\n",
       "      <td>RM-D06C-03</td>\n",
       "      <td>9.651928e+09</td>\n",
       "      <td>413655231.0</td>\n",
       "      <td>-3.149147</td>\n",
       "      <td>-51.777552</td>\n",
       "      <td>100.00</td>\n",
       "      <td>NaN</td>\n",
       "    </tr>\n",
       "    <tr>\n",
       "      <th>121</th>\n",
       "      <td>RM-D06C-04</td>\n",
       "      <td>9.651928e+09</td>\n",
       "      <td>413655231.0</td>\n",
       "      <td>-3.149147</td>\n",
       "      <td>-51.777552</td>\n",
       "      <td>100.00</td>\n",
       "      <td>NaN</td>\n",
       "    </tr>\n",
       "  </tbody>\n",
       "</table>\n",
       "<p>121 rows × 7 columns</p>\n",
       "</div>"
      ],
      "text/plain": [
       "          sensor             N            E  latitude  longitude  altura  \\\n",
       "1    PZ-BM-BV-11  9.652626e+09  412507056.0 -3.142831 -51.787880   74.48   \n",
       "2    PZ-BM-BV-12  9.652626e+09  412507056.0 -3.142831 -51.787880   59.15   \n",
       "3    PZ-BM-BV-13  9.652636e+09  412475409.0 -3.142733 -51.788165   69.96   \n",
       "4    PZ-BM-BV-14  9.652636e+09  412475409.0 -3.142733 -51.788165   54.44   \n",
       "5    PZ-BM-BV-15  9.652622e+09  412336622.0 -3.142866 -51.789414   65.00   \n",
       "..           ...           ...          ...       ...        ...     ...   \n",
       "117   MV-D06C-04  9.652152e+09  413817837.0 -3.147122 -51.776087   65.00   \n",
       "118   RM-D06C-01  9.651928e+09  413655231.0 -3.149147 -51.777552  100.00   \n",
       "119   RM-D06C-02  9.651928e+09  413655231.0 -3.149147 -51.777552  100.00   \n",
       "120   RM-D06C-03  9.651928e+09  413655231.0 -3.149147 -51.777552  100.00   \n",
       "121   RM-D06C-04  9.651928e+09  413655231.0 -3.149147 -51.777552  100.00   \n",
       "\n",
       "     id_sensor  \n",
       "1         91.0  \n",
       "2         92.0  \n",
       "3         93.0  \n",
       "4         94.0  \n",
       "5         95.0  \n",
       "..         ...  \n",
       "117       60.0  \n",
       "118        NaN  \n",
       "119        NaN  \n",
       "120        NaN  \n",
       "121        NaN  \n",
       "\n",
       "[121 rows x 7 columns]"
      ]
     },
     "execution_count": 27,
     "metadata": {},
     "output_type": "execute_result"
    }
   ],
   "source": [
    "localizacao = localizacao.reset_index(drop=True)\n",
    "localizacao.index = localizacao.index + 1\n",
    "localizacao"
   ]
  },
  {
   "cell_type": "code",
   "execution_count": 28,
   "metadata": {},
   "outputs": [],
   "source": [
    "x_latitude = localizacao['latitude']\n",
    "y_longitude = localizacao['longitude']\n",
    "z_altura = localizacao['altura']"
   ]
  },
  {
   "cell_type": "code",
   "execution_count": 29,
   "metadata": {},
   "outputs": [],
   "source": [
    "localizacao['geom'] = gpd.GeoSeries.from_xy(x =y_longitude, y=x_latitude, z=z_altura, crs='EPSG:4326')"
   ]
  },
  {
   "cell_type": "code",
   "execution_count": 30,
   "metadata": {},
   "outputs": [],
   "source": [
    "localizacao = localizacao[['id_sensor', 'sensor', 'latitude', 'longitude', 'altura', 'geom']]"
   ]
  },
  {
   "cell_type": "code",
   "execution_count": 31,
   "metadata": {},
   "outputs": [
    {
     "data": {
      "text/html": [
       "<div>\n",
       "<style scoped>\n",
       "    .dataframe tbody tr th:only-of-type {\n",
       "        vertical-align: middle;\n",
       "    }\n",
       "\n",
       "    .dataframe tbody tr th {\n",
       "        vertical-align: top;\n",
       "    }\n",
       "\n",
       "    .dataframe thead th {\n",
       "        text-align: right;\n",
       "    }\n",
       "</style>\n",
       "<table border=\"1\" class=\"dataframe\">\n",
       "  <thead>\n",
       "    <tr style=\"text-align: right;\">\n",
       "      <th></th>\n",
       "      <th>id_sensor</th>\n",
       "      <th>sensor</th>\n",
       "      <th>latitude</th>\n",
       "      <th>longitude</th>\n",
       "      <th>altura</th>\n",
       "      <th>geom</th>\n",
       "    </tr>\n",
       "  </thead>\n",
       "  <tbody>\n",
       "    <tr>\n",
       "      <th>1</th>\n",
       "      <td>91.0</td>\n",
       "      <td>PZ-BM-BV-11</td>\n",
       "      <td>-3.142831</td>\n",
       "      <td>-51.787880</td>\n",
       "      <td>74.48</td>\n",
       "      <td>POINT Z (-51.78788 -3.14283 74.48000)</td>\n",
       "    </tr>\n",
       "    <tr>\n",
       "      <th>2</th>\n",
       "      <td>92.0</td>\n",
       "      <td>PZ-BM-BV-12</td>\n",
       "      <td>-3.142831</td>\n",
       "      <td>-51.787880</td>\n",
       "      <td>59.15</td>\n",
       "      <td>POINT Z (-51.78788 -3.14283 59.15000)</td>\n",
       "    </tr>\n",
       "    <tr>\n",
       "      <th>3</th>\n",
       "      <td>93.0</td>\n",
       "      <td>PZ-BM-BV-13</td>\n",
       "      <td>-3.142733</td>\n",
       "      <td>-51.788165</td>\n",
       "      <td>69.96</td>\n",
       "      <td>POINT Z (-51.78816 -3.14273 69.96000)</td>\n",
       "    </tr>\n",
       "    <tr>\n",
       "      <th>4</th>\n",
       "      <td>94.0</td>\n",
       "      <td>PZ-BM-BV-14</td>\n",
       "      <td>-3.142733</td>\n",
       "      <td>-51.788165</td>\n",
       "      <td>54.44</td>\n",
       "      <td>POINT Z (-51.78816 -3.14273 54.44000)</td>\n",
       "    </tr>\n",
       "    <tr>\n",
       "      <th>5</th>\n",
       "      <td>95.0</td>\n",
       "      <td>PZ-BM-BV-15</td>\n",
       "      <td>-3.142866</td>\n",
       "      <td>-51.789414</td>\n",
       "      <td>65.00</td>\n",
       "      <td>POINT Z (-51.78941 -3.14287 65.00000)</td>\n",
       "    </tr>\n",
       "  </tbody>\n",
       "</table>\n",
       "</div>"
      ],
      "text/plain": [
       "   id_sensor       sensor  latitude  longitude  altura  \\\n",
       "1       91.0  PZ-BM-BV-11 -3.142831 -51.787880   74.48   \n",
       "2       92.0  PZ-BM-BV-12 -3.142831 -51.787880   59.15   \n",
       "3       93.0  PZ-BM-BV-13 -3.142733 -51.788165   69.96   \n",
       "4       94.0  PZ-BM-BV-14 -3.142733 -51.788165   54.44   \n",
       "5       95.0  PZ-BM-BV-15 -3.142866 -51.789414   65.00   \n",
       "\n",
       "                                    geom  \n",
       "1  POINT Z (-51.78788 -3.14283 74.48000)  \n",
       "2  POINT Z (-51.78788 -3.14283 59.15000)  \n",
       "3  POINT Z (-51.78816 -3.14273 69.96000)  \n",
       "4  POINT Z (-51.78816 -3.14273 54.44000)  \n",
       "5  POINT Z (-51.78941 -3.14287 65.00000)  "
      ]
     },
     "execution_count": 31,
     "metadata": {},
     "output_type": "execute_result"
    }
   ],
   "source": [
    "localizacao.head()"
   ]
  },
  {
   "cell_type": "code",
   "execution_count": 32,
   "metadata": {},
   "outputs": [],
   "source": [
    "from libary.Database import Database"
   ]
  },
  {
   "cell_type": "code",
   "execution_count": 33,
   "metadata": {},
   "outputs": [
    {
     "ename": "TypeError",
     "evalue": "__init__() got an unexpected keyword argument 'dotenv_path'",
     "output_type": "error",
     "traceback": [
      "\u001b[1;31m---------------------------------------------------------------------------\u001b[0m",
      "\u001b[1;31mTypeError\u001b[0m                                 Traceback (most recent call last)",
      "\u001b[1;32m~\\AppData\\Local\\Temp\\ipykernel_5316\\2758182688.py\u001b[0m in \u001b[0;36m<cell line: 1>\u001b[1;34m()\u001b[0m\n\u001b[1;32m----> 1\u001b[1;33m \u001b[0mdatabase\u001b[0m \u001b[1;33m=\u001b[0m \u001b[0mDatabase\u001b[0m\u001b[1;33m(\u001b[0m\u001b[0mschema\u001b[0m\u001b[1;33m=\u001b[0m\u001b[1;34m'pesquisa'\u001b[0m\u001b[1;33m,\u001b[0m \u001b[0mtable\u001b[0m\u001b[1;33m=\u001b[0m\u001b[1;34m'view_leituras_sensores'\u001b[0m\u001b[1;33m,\u001b[0m \u001b[0mdotenv_path\u001b[0m\u001b[1;33m=\u001b[0m\u001b[1;34m'../.env'\u001b[0m\u001b[1;33m,\u001b[0m \u001b[0mambiente\u001b[0m \u001b[1;33m=\u001b[0m \u001b[1;36m1\u001b[0m\u001b[1;33m)\u001b[0m\u001b[1;33m\u001b[0m\u001b[1;33m\u001b[0m\u001b[0m\n\u001b[0m",
      "\u001b[1;31mTypeError\u001b[0m: __init__() got an unexpected keyword argument 'dotenv_path'"
     ]
    }
   ],
   "source": [
    "database = Database(schema='pesquisa', table='view_leituras_sensores', path='../.env', ambiente = 1)"
   ]
  },
  {
   "cell_type": "code",
   "execution_count": null,
   "metadata": {},
   "outputs": [],
   "source": [
    "localizacao = localizacao.set_geometry('geom')"
   ]
  },
  {
   "cell_type": "code",
   "execution_count": null,
   "metadata": {},
   "outputs": [],
   "source": [
    "localizacao_ = localizacao[['id_sensor', 'sensor', 'latitude', 'longitude', 'altura']]"
   ]
  },
  {
   "cell_type": "code",
   "execution_count": null,
   "metadata": {},
   "outputs": [],
   "source": [
    "leituras = leituras.rename(columns={'index': 'id'})\n",
    "localizacao = localizacao.rename(columns={'index': 'id'})"
   ]
  },
  {
   "cell_type": "code",
   "execution_count": null,
   "metadata": {},
   "outputs": [],
   "source": [
    "from libary.Database import Database"
   ]
  },
  {
   "cell_type": "code",
   "execution_count": null,
   "metadata": {},
   "outputs": [
    {
     "name": "stdout",
     "output_type": "stream",
     "text": [
      "truncate ok\n",
      "Falha ao importar as variaveis de ambiente.\n",
      "oi\n"
     ]
    }
   ],
   "source": [
    "database = Database(schema='pesquisa', table='area', ambiente = 0, dotenv_path='../.env')\n",
    "database.truncate_table()\n",
    "print('truncate ok')\n",
    "database.to_table(df=area, schema='pequisa', table='area')"
   ]
  },
  {
   "cell_type": "code",
   "execution_count": null,
   "metadata": {},
   "outputs": [],
   "source": []
  },
  {
   "cell_type": "code",
   "execution_count": null,
   "metadata": {},
   "outputs": [],
   "source": []
  },
  {
   "cell_type": "code",
   "execution_count": null,
   "metadata": {},
   "outputs": [],
   "source": []
  },
  {
   "cell_type": "code",
   "execution_count": null,
   "metadata": {},
   "outputs": [
    {
     "ename": "NameError",
     "evalue": "name 'ysrewgersdergsdt' is not defined",
     "output_type": "error",
     "traceback": [
      "\u001b[1;31m---------------------------------------------------------------------------\u001b[0m",
      "\u001b[1;31mNameError\u001b[0m                                 Traceback (most recent call last)",
      "\u001b[1;32m~\\AppData\\Local\\Temp\\ipykernel_24760\\301229822.py\u001b[0m in \u001b[0;36m<cell line: 1>\u001b[1;34m()\u001b[0m\n\u001b[1;32m----> 1\u001b[1;33m \u001b[0mysrewgersdergsdt\u001b[0m\u001b[1;33m\u001b[0m\u001b[1;33m\u001b[0m\u001b[0m\n\u001b[0m",
      "\u001b[1;31mNameError\u001b[0m: name 'ysrewgersdergsdt' is not defined"
     ]
    }
   ],
   "source": [
    "ysrewgersdergsdt"
   ]
  },
  {
   "cell_type": "code",
   "execution_count": null,
   "metadata": {},
   "outputs": [],
   "source": [
    "database.truncate_table(schema='pequisa', table='sensores')\n",
    "database.to_table(df=tabela_sensores, schema='pequisa', table='sensores')\n",
    "\n",
    "database.truncate_table(schema='pequisa', table='unidade')\n",
    "database.to_table(df=unidade, schema='pequisa', table='unidade')\n",
    "\n",
    "database.truncate_table(schema='pequisa', table='direcao_saida')\n",
    "database.to_table(df=direcao_saida, schema='pequisa', table='direcao_saida')\n",
    "\n",
    "database.truncate_table(schema='pequisa', table='area')\n",
    "database.to_table(df=area, schema='pequisa', table='area')\n",
    "\n",
    "database.truncate_table(schema='pequisa', table='estado')\n",
    "database.to_table(df=estado, schema='pequisa', table='estado')\n",
    "\n",
    "database.truncate_table(schema='pequisa', table='leituras')\n",
    "database.to_table(df=leituras, schema='pequisa', table='leituras')\n",
    "\n",
    "database.truncate_table(schema='pequisa', table='localizacao')\n",
    "database.to_table(df=localizacao, schema='pequisa', table='localizacao', geom=True)"
   ]
  },
  {
   "cell_type": "code",
   "execution_count": null,
   "metadata": {},
   "outputs": [],
   "source": [
    "asfsdasdfvggfse"
   ]
  },
  {
   "cell_type": "code",
   "execution_count": null,
   "metadata": {},
   "outputs": [],
   "source": [
    "tabela_sensores.to_sql('sensores', schema='pesquisa', con=conn, if_exists='replace', index=True)\n",
    "unidade.to_sql('unidade', schema='pesquisa', con=conn, if_exists='replace', index=False)\n",
    "direcao_saida.to_sql('direcao_saida', schema='pesquisa', con=conn, if_exists='replace', index=False)\n",
    "area.to_sql('area', schema='pesquisa', con=conn, if_exists='replace', index=False)\n",
    "estado.to_sql('estado', schema='pesquisa', con=conn, if_exists='replace', index=False)\n",
    "leituras.to_sql('leituras', schema='pesquisa', con=conn, if_exists='replace', index=True)\n",
    "localizacao.to_postgis('localizacao', schema='pesquisa', con=conn, if_exists='replace', index=True)"
   ]
  },
  {
   "cell_type": "code",
   "execution_count": null,
   "metadata": {},
   "outputs": [],
   "source": [
    "tabela_sensores.to_excel('../tabelas/sensores.xlsx')\n",
    "unidades.to_excel('../tabelas/unidades.xlsx')\n",
    "direcao_saida.to_excel('../tabelas/direcao_saida.xlsx')\n",
    "leituras.to_excel('../tabelas/leituras.xlsx')\n",
    "localizacao.to_excel('../tabelas/localizacao.xlsx')"
   ]
  }
 ],
 "metadata": {
  "kernelspec": {
   "display_name": "venv",
   "language": "python",
   "name": "python3"
  },
  "language_info": {
   "codemirror_mode": {
    "name": "ipython",
    "version": 3
   },
   "file_extension": ".py",
   "mimetype": "text/x-python",
   "name": "python",
   "nbconvert_exporter": "python",
   "pygments_lexer": "ipython3",
   "version": "3.9.0"
  },
  "orig_nbformat": 4
 },
 "nbformat": 4,
 "nbformat_minor": 2
}
